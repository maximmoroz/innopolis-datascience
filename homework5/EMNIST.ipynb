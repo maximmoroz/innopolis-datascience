{
 "cells": [
  {
   "cell_type": "code",
   "execution_count": 98,
   "id": "9570dd90",
   "metadata": {},
   "outputs": [],
   "source": [
    "import pandas as pd\n",
    "import numpy as np\n",
    "\n",
    "from scipy import stats\n",
    "from sklearn.model_selection import train_test_split"
   ]
  },
  {
   "cell_type": "code",
   "execution_count": 191,
   "id": "68c20268",
   "metadata": {},
   "outputs": [],
   "source": [
    " from kaggle.api.kaggle_api_extended import KaggleApi\n",
    " kaggle = KaggleApi()\n",
    " kaggle.authenticate()"
   ]
  },
  {
   "cell_type": "code",
   "execution_count": 192,
   "id": "066e7232",
   "metadata": {},
   "outputs": [],
   "source": []
  },
  {
   "cell_type": "code",
   "execution_count": 91,
   "id": "025bd0cd",
   "metadata": {},
   "outputs": [],
   "source": [
    "df_test = pd.read_csv(\"emnist-letters-train.csv\", header=None)"
   ]
  },
  {
   "cell_type": "code",
   "execution_count": 92,
   "id": "0153255c",
   "metadata": {},
   "outputs": [
    {
     "data": {
      "text/html": [
       "<div>\n",
       "<style scoped>\n",
       "    .dataframe tbody tr th:only-of-type {\n",
       "        vertical-align: middle;\n",
       "    }\n",
       "\n",
       "    .dataframe tbody tr th {\n",
       "        vertical-align: top;\n",
       "    }\n",
       "\n",
       "    .dataframe thead th {\n",
       "        text-align: right;\n",
       "    }\n",
       "</style>\n",
       "<table border=\"1\" class=\"dataframe\">\n",
       "  <thead>\n",
       "    <tr style=\"text-align: right;\">\n",
       "      <th></th>\n",
       "      <th>0</th>\n",
       "      <th>1</th>\n",
       "      <th>2</th>\n",
       "      <th>3</th>\n",
       "      <th>4</th>\n",
       "      <th>5</th>\n",
       "      <th>6</th>\n",
       "      <th>7</th>\n",
       "      <th>8</th>\n",
       "      <th>9</th>\n",
       "      <th>...</th>\n",
       "      <th>775</th>\n",
       "      <th>776</th>\n",
       "      <th>777</th>\n",
       "      <th>778</th>\n",
       "      <th>779</th>\n",
       "      <th>780</th>\n",
       "      <th>781</th>\n",
       "      <th>782</th>\n",
       "      <th>783</th>\n",
       "      <th>784</th>\n",
       "    </tr>\n",
       "  </thead>\n",
       "  <tbody>\n",
       "    <tr>\n",
       "      <th>0</th>\n",
       "      <td>23</td>\n",
       "      <td>0</td>\n",
       "      <td>0</td>\n",
       "      <td>0</td>\n",
       "      <td>0</td>\n",
       "      <td>0</td>\n",
       "      <td>0</td>\n",
       "      <td>0</td>\n",
       "      <td>0</td>\n",
       "      <td>0</td>\n",
       "      <td>...</td>\n",
       "      <td>0</td>\n",
       "      <td>0</td>\n",
       "      <td>0</td>\n",
       "      <td>0</td>\n",
       "      <td>0</td>\n",
       "      <td>0</td>\n",
       "      <td>0</td>\n",
       "      <td>0</td>\n",
       "      <td>0</td>\n",
       "      <td>0</td>\n",
       "    </tr>\n",
       "    <tr>\n",
       "      <th>1</th>\n",
       "      <td>7</td>\n",
       "      <td>0</td>\n",
       "      <td>0</td>\n",
       "      <td>0</td>\n",
       "      <td>0</td>\n",
       "      <td>0</td>\n",
       "      <td>0</td>\n",
       "      <td>0</td>\n",
       "      <td>0</td>\n",
       "      <td>0</td>\n",
       "      <td>...</td>\n",
       "      <td>0</td>\n",
       "      <td>0</td>\n",
       "      <td>0</td>\n",
       "      <td>0</td>\n",
       "      <td>0</td>\n",
       "      <td>0</td>\n",
       "      <td>0</td>\n",
       "      <td>0</td>\n",
       "      <td>0</td>\n",
       "      <td>0</td>\n",
       "    </tr>\n",
       "    <tr>\n",
       "      <th>2</th>\n",
       "      <td>16</td>\n",
       "      <td>0</td>\n",
       "      <td>0</td>\n",
       "      <td>0</td>\n",
       "      <td>0</td>\n",
       "      <td>0</td>\n",
       "      <td>0</td>\n",
       "      <td>0</td>\n",
       "      <td>0</td>\n",
       "      <td>0</td>\n",
       "      <td>...</td>\n",
       "      <td>0</td>\n",
       "      <td>0</td>\n",
       "      <td>0</td>\n",
       "      <td>0</td>\n",
       "      <td>0</td>\n",
       "      <td>0</td>\n",
       "      <td>0</td>\n",
       "      <td>0</td>\n",
       "      <td>0</td>\n",
       "      <td>0</td>\n",
       "    </tr>\n",
       "    <tr>\n",
       "      <th>3</th>\n",
       "      <td>15</td>\n",
       "      <td>0</td>\n",
       "      <td>0</td>\n",
       "      <td>0</td>\n",
       "      <td>0</td>\n",
       "      <td>0</td>\n",
       "      <td>0</td>\n",
       "      <td>0</td>\n",
       "      <td>0</td>\n",
       "      <td>0</td>\n",
       "      <td>...</td>\n",
       "      <td>0</td>\n",
       "      <td>0</td>\n",
       "      <td>0</td>\n",
       "      <td>0</td>\n",
       "      <td>0</td>\n",
       "      <td>0</td>\n",
       "      <td>0</td>\n",
       "      <td>0</td>\n",
       "      <td>0</td>\n",
       "      <td>0</td>\n",
       "    </tr>\n",
       "    <tr>\n",
       "      <th>4</th>\n",
       "      <td>23</td>\n",
       "      <td>0</td>\n",
       "      <td>0</td>\n",
       "      <td>0</td>\n",
       "      <td>0</td>\n",
       "      <td>0</td>\n",
       "      <td>0</td>\n",
       "      <td>0</td>\n",
       "      <td>0</td>\n",
       "      <td>0</td>\n",
       "      <td>...</td>\n",
       "      <td>0</td>\n",
       "      <td>0</td>\n",
       "      <td>0</td>\n",
       "      <td>0</td>\n",
       "      <td>0</td>\n",
       "      <td>0</td>\n",
       "      <td>0</td>\n",
       "      <td>0</td>\n",
       "      <td>0</td>\n",
       "      <td>0</td>\n",
       "    </tr>\n",
       "  </tbody>\n",
       "</table>\n",
       "<p>5 rows × 785 columns</p>\n",
       "</div>"
      ],
      "text/plain": [
       "   0    1    2    3    4    5    6    7    8    9    ...  775  776  777  778  \\\n",
       "0   23    0    0    0    0    0    0    0    0    0  ...    0    0    0    0   \n",
       "1    7    0    0    0    0    0    0    0    0    0  ...    0    0    0    0   \n",
       "2   16    0    0    0    0    0    0    0    0    0  ...    0    0    0    0   \n",
       "3   15    0    0    0    0    0    0    0    0    0  ...    0    0    0    0   \n",
       "4   23    0    0    0    0    0    0    0    0    0  ...    0    0    0    0   \n",
       "\n",
       "   779  780  781  782  783  784  \n",
       "0    0    0    0    0    0    0  \n",
       "1    0    0    0    0    0    0  \n",
       "2    0    0    0    0    0    0  \n",
       "3    0    0    0    0    0    0  \n",
       "4    0    0    0    0    0    0  \n",
       "\n",
       "[5 rows x 785 columns]"
      ]
     },
     "execution_count": 92,
     "metadata": {},
     "output_type": "execute_result"
    }
   ],
   "source": [
    "df_test.head()"
   ]
  },
  {
   "cell_type": "code",
   "execution_count": 94,
   "id": "32121ca5",
   "metadata": {},
   "outputs": [],
   "source": [
    "def get_train_test_data(filename: str):\n",
    "    data = pd.read_csv(filename, header=None).values\n",
    "    assert data.shape[1] == 785\n",
    "    train, test = train_test_split(data, random_state=42)\n",
    "    x_train = train[:, 1:]\n",
    "    y_train = train[:, 0]\n",
    "    x_test = test[:, 1:]\n",
    "    y_test = test[:, 0]\n",
    "    return x_train, y_train, x_test, y_test"
   ]
  },
  {
   "cell_type": "code",
   "execution_count": 185,
   "id": "8b222b77",
   "metadata": {},
   "outputs": [],
   "source": [
    "def get_test_submit_data(filename: str):\n",
    "    data = pd.read_csv(filename, header=None).values\n",
    "    assert data.shape[1] == 784\n",
    "    return data"
   ]
  },
  {
   "cell_type": "code",
   "execution_count": 115,
   "id": "c6bc852f",
   "metadata": {},
   "outputs": [],
   "source": [
    "def score(y_pred, y_test):\n",
    "    assert len(y_pred) == len(y_test)\n",
    "    return np.sum(y_pred == y_test) / len(y_pred)"
   ]
  },
  {
   "cell_type": "code",
   "execution_count": 214,
   "id": "e1734448",
   "metadata": {},
   "outputs": [],
   "source": [
    "def kaggle_submit(kaggle, name: str, y_pred):\n",
    "    COMPETITION=\"jds3\"\n",
    "    submit_df = pd.DataFrame(y_submit, columns=[\"Category\",], index=range(1, len(y_submit) + 1))\n",
    "    submit_df.index = submit_df.index.rename(\"Id\")\n",
    "    submit_df.to_csv(\"submission.csv\")\n",
    "    kaggle.competition_submit(\"submission.csv\", name, COMPETITION)"
   ]
  },
  {
   "cell_type": "code",
   "execution_count": 95,
   "id": "43e8a03e",
   "metadata": {},
   "outputs": [],
   "source": [
    "x_train, y_train, x_test, y_test = get_train_test_data(\"emnist-letters-train.csv\")"
   ]
  },
  {
   "cell_type": "code",
   "execution_count": 186,
   "id": "02601f65",
   "metadata": {},
   "outputs": [],
   "source": [
    "x_submit = get_test_submit_data(\"emnist-letters-test-sh.csv\")"
   ]
  },
  {
   "cell_type": "code",
   "execution_count": null,
   "id": "cc99d356",
   "metadata": {},
   "outputs": [],
   "source": []
  },
  {
   "cell_type": "code",
   "execution_count": 100,
   "id": "531efe1b",
   "metadata": {},
   "outputs": [
    {
     "data": {
      "text/plain": [
       "DescribeResult(nobs=66600, minmax=(1, 26), mean=13.523723723723723, variance=56.303555856942545, skewness=-0.00229399597296468, kurtosis=-1.205403415936032)"
      ]
     },
     "execution_count": 100,
     "metadata": {},
     "output_type": "execute_result"
    }
   ],
   "source": [
    "stats.describe(y_train)"
   ]
  },
  {
   "cell_type": "code",
   "execution_count": 112,
   "id": "a61e1a85",
   "metadata": {},
   "outputs": [],
   "source": [
    "model_results = []"
   ]
  },
  {
   "cell_type": "markdown",
   "id": "c0fdc3f7",
   "metadata": {},
   "source": [
    "# Constant Output"
   ]
  },
  {
   "cell_type": "code",
   "execution_count": 116,
   "id": "b004be90",
   "metadata": {},
   "outputs": [],
   "source": [
    "y_pred = np.ones(y_test.shape)\n",
    "model_name = \"Constant Output\"\n",
    "model_score = score(y_pred, y_test)\n",
    "model_results.append((model_score, model_name))"
   ]
  },
  {
   "cell_type": "code",
   "execution_count": 120,
   "id": "a5be927b",
   "metadata": {},
   "outputs": [
    {
     "name": "stdout",
     "output_type": "stream",
     "text": [
      "Constant Output model score 0.0394 \n"
     ]
    }
   ],
   "source": [
    "print(\"{} model score {:.4f} \".format(model_name, model_score))"
   ]
  },
  {
   "cell_type": "markdown",
   "id": "df6a59cf",
   "metadata": {},
   "source": [
    "# Linear Regression for classification"
   ]
  },
  {
   "cell_type": "code",
   "execution_count": 122,
   "id": "c66fdff3",
   "metadata": {},
   "outputs": [],
   "source": [
    "from sklearn.linear_model import LinearRegression"
   ]
  },
  {
   "cell_type": "code",
   "execution_count": 123,
   "id": "7e251266",
   "metadata": {},
   "outputs": [],
   "source": [
    "lin_reg = LinearRegression()"
   ]
  },
  {
   "cell_type": "code",
   "execution_count": 124,
   "id": "514b3755",
   "metadata": {},
   "outputs": [
    {
     "data": {
      "text/plain": [
       "LinearRegression()"
      ]
     },
     "execution_count": 124,
     "metadata": {},
     "output_type": "execute_result"
    }
   ],
   "source": [
    "lin_reg.fit(x_train, y_train)"
   ]
  },
  {
   "cell_type": "code",
   "execution_count": 127,
   "id": "492ff723",
   "metadata": {},
   "outputs": [],
   "source": [
    "y_pred = lin_reg.predict(x_test).round().astype(np.uint8)"
   ]
  },
  {
   "cell_type": "code",
   "execution_count": 130,
   "id": "713e8866",
   "metadata": {},
   "outputs": [
    {
     "name": "stdout",
     "output_type": "stream",
     "text": [
      "Linear Regression model score 0.0467 \n"
     ]
    }
   ],
   "source": [
    "model_name = \"Linear Regression\"\n",
    "model_score = score(y_pred, y_test)\n",
    "model_results.append((model_score, model_name))\n",
    "print(\"{} model score {:.4f} \".format(model_name, model_score))"
   ]
  },
  {
   "cell_type": "markdown",
   "id": "c212a9a5",
   "metadata": {},
   "source": [
    "# KNN classification with reduced dimentionality"
   ]
  },
  {
   "cell_type": "code",
   "execution_count": 140,
   "id": "4db0ea0b",
   "metadata": {},
   "outputs": [],
   "source": [
    "from sklearn.neighbors import KNeighborsClassifier\n",
    "import matplotlib.pyplot as plt"
   ]
  },
  {
   "cell_type": "code",
   "execution_count": 187,
   "id": "9793e897",
   "metadata": {},
   "outputs": [],
   "source": [
    "def reduce_dim(x):\n",
    "    return x.reshape(x.shape[0], 28, -1)[:,::2,::2].reshape(x.shape[0], -1)\n",
    "x_train_reduced = reduce_dim(x_train)\n",
    "x_test_reduced = reduce_dim(x_test)"
   ]
  },
  {
   "cell_type": "code",
   "execution_count": 188,
   "id": "6f18ac17",
   "metadata": {},
   "outputs": [
    {
     "data": {
      "text/plain": [
       "KNeighborsClassifier()"
      ]
     },
     "execution_count": 188,
     "metadata": {},
     "output_type": "execute_result"
    }
   ],
   "source": [
    "knn = KNeighborsClassifier()\n",
    "knn.fit(x_train_reduced, y_train)"
   ]
  },
  {
   "cell_type": "code",
   "execution_count": 189,
   "id": "6c6c16d1",
   "metadata": {},
   "outputs": [],
   "source": [
    "y_pred = knn.predict(x_test_reduced)"
   ]
  },
  {
   "cell_type": "code",
   "execution_count": 153,
   "id": "fa1c798a",
   "metadata": {},
   "outputs": [
    {
     "data": {
      "text/plain": [
       "0.844954954954955"
      ]
     },
     "execution_count": 153,
     "metadata": {},
     "output_type": "execute_result"
    }
   ],
   "source": [
    "score(y_pred, y_test)"
   ]
  },
  {
   "cell_type": "code",
   "execution_count": 154,
   "id": "86558095",
   "metadata": {},
   "outputs": [
    {
     "name": "stdout",
     "output_type": "stream",
     "text": [
      "KNN Regression with 14x14 model score 0.8450 \n"
     ]
    }
   ],
   "source": [
    "model_name = \"KNN Regression with 14x14\"\n",
    "model_score = score(y_pred, y_test)\n",
    "model_results.append((model_score, model_name))\n",
    "print(\"{} model score {:.4f} \".format(model_name, model_score))"
   ]
  },
  {
   "cell_type": "code",
   "execution_count": 193,
   "id": "03b504cf",
   "metadata": {},
   "outputs": [],
   "source": [
    "x_submit_reduced = reduce_dim(x_submit)\n",
    "y_submit = knn.predict(x_submit_reduced)"
   ]
  },
  {
   "cell_type": "code",
   "execution_count": 215,
   "id": "c4485f8c",
   "metadata": {},
   "outputs": [
    {
     "name": "stderr",
     "output_type": "stream",
     "text": [
      "100%|██████████| 112k/112k [00:03<00:00, 32.8kB/s] \n"
     ]
    }
   ],
   "source": [
    "kaggle_submit(kaggle, \"KNN Regression with 14x14\", y_pred)"
   ]
  },
  {
   "cell_type": "markdown",
   "id": "f1470c26",
   "metadata": {},
   "source": [
    "## KNN with block reduce 4x4"
   ]
  },
  {
   "cell_type": "code",
   "execution_count": 160,
   "id": "75bb6fb4",
   "metadata": {},
   "outputs": [],
   "source": [
    "import skimage.measure"
   ]
  },
  {
   "cell_type": "code",
   "execution_count": 178,
   "id": "4dd184aa",
   "metadata": {},
   "outputs": [],
   "source": [
    "def reduce_dim_block(x):\n",
    "    im = x.reshape(x.shape[0], 28, -1)\n",
    "    im_reduced = skimage.measure.block_reduce(im, (1, 4,4), np.max)\n",
    "    return im_reduced.reshape(im_reduced.shape[0], -1)\n",
    "    \n",
    "x_train_reduced = reduce_dim_block(x_train)\n",
    "x_test_reduced = reduce_dim_block(x_test)"
   ]
  },
  {
   "cell_type": "code",
   "execution_count": 172,
   "id": "cc3eda67",
   "metadata": {},
   "outputs": [
    {
     "data": {
      "text/plain": [
       "KNeighborsClassifier()"
      ]
     },
     "execution_count": 172,
     "metadata": {},
     "output_type": "execute_result"
    }
   ],
   "source": [
    "knn = KNeighborsClassifier()\n",
    "knn.fit(x_train_reduced, y_train)"
   ]
  },
  {
   "cell_type": "code",
   "execution_count": 173,
   "id": "6cbb0fa3",
   "metadata": {},
   "outputs": [],
   "source": [
    "y_pred = knn.predict(x_test_reduced)"
   ]
  },
  {
   "cell_type": "code",
   "execution_count": 174,
   "id": "6cefe617",
   "metadata": {},
   "outputs": [
    {
     "data": {
      "text/plain": [
       "0.7995045045045045"
      ]
     },
     "execution_count": 174,
     "metadata": {},
     "output_type": "execute_result"
    }
   ],
   "source": [
    "score(y_pred, y_test)"
   ]
  },
  {
   "cell_type": "code",
   "execution_count": 175,
   "id": "b12fb57c",
   "metadata": {},
   "outputs": [
    {
     "name": "stdout",
     "output_type": "stream",
     "text": [
      "KNN Regression with 7x7 model score 0.7995 \n"
     ]
    }
   ],
   "source": [
    "model_name = \"KNN Regression with 7x7\"\n",
    "model_score = score(y_pred, y_test)\n",
    "model_results.append((model_score, model_name))\n",
    "print(\"{} model score {:.4f} \".format(model_name, model_score))"
   ]
  },
  {
   "cell_type": "code",
   "execution_count": 179,
   "id": "45fd1707",
   "metadata": {},
   "outputs": [],
   "source": [
    "x_train_reduced[x_train_reduced < 128] = 0\n",
    "x_train_reduced[x_train_reduced >= 128] = 1\n",
    "x_test_reduced[x_test_reduced < 128] = 0\n",
    "x_test_reduced[x_test_reduced >= 128] = 1"
   ]
  },
  {
   "cell_type": "code",
   "execution_count": 180,
   "id": "2876414d",
   "metadata": {},
   "outputs": [
    {
     "data": {
      "text/plain": [
       "KNeighborsClassifier()"
      ]
     },
     "execution_count": 180,
     "metadata": {},
     "output_type": "execute_result"
    }
   ],
   "source": [
    "knn = KNeighborsClassifier()\n",
    "knn.fit(x_train_reduced, y_train)"
   ]
  },
  {
   "cell_type": "code",
   "execution_count": 181,
   "id": "2bde2381",
   "metadata": {},
   "outputs": [],
   "source": [
    "y_pred = knn.predict(x_test_reduced)"
   ]
  },
  {
   "cell_type": "code",
   "execution_count": 182,
   "id": "6c02cb35",
   "metadata": {},
   "outputs": [
    {
     "data": {
      "text/plain": [
       "0.7254054054054054"
      ]
     },
     "execution_count": 182,
     "metadata": {},
     "output_type": "execute_result"
    }
   ],
   "source": [
    "score(y_pred, y_test)"
   ]
  },
  {
   "cell_type": "code",
   "execution_count": 183,
   "id": "7610952a",
   "metadata": {},
   "outputs": [
    {
     "name": "stdout",
     "output_type": "stream",
     "text": [
      "KNN Regression with 7x7 1bit model score 0.7254 \n"
     ]
    }
   ],
   "source": [
    "model_name = \"KNN Regression with 7x7 1bit\"\n",
    "model_score = score(y_pred, y_test)\n",
    "model_results.append((model_score, model_name))\n",
    "print(\"{} model score {:.4f} \".format(model_name, model_score))"
   ]
  },
  {
   "cell_type": "code",
   "execution_count": null,
   "id": "047ae4e0",
   "metadata": {},
   "outputs": [],
   "source": []
  }
 ],
 "metadata": {
  "kernelspec": {
   "display_name": "Python 3",
   "language": "python",
   "name": "python3"
  },
  "language_info": {
   "codemirror_mode": {
    "name": "ipython",
    "version": 3
   },
   "file_extension": ".py",
   "mimetype": "text/x-python",
   "name": "python",
   "nbconvert_exporter": "python",
   "pygments_lexer": "ipython3",
   "version": "3.6.9"
  }
 },
 "nbformat": 4,
 "nbformat_minor": 5
}
