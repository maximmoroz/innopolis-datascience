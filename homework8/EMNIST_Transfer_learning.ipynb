{
 "cells": [
  {
   "cell_type": "code",
   "execution_count": 1,
   "id": "02409c64",
   "metadata": {},
   "outputs": [],
   "source": [
    "from tensorflow.keras.preprocessing.image import load_img, img_to_array, array_to_img\n",
    "import tensorflow as tf\n",
    "from tensorflow import keras\n",
    "from tensorflow.keras import layers as L\n",
    "from tensorflow.keras.models import Sequential"
   ]
  },
  {
   "cell_type": "code",
   "execution_count": 2,
   "id": "503a342f",
   "metadata": {},
   "outputs": [],
   "source": [
    "import pandas as pd\n",
    "import numpy as np\n",
    "from sklearn.model_selection import train_test_split"
   ]
  },
  {
   "cell_type": "code",
   "execution_count": 40,
   "id": "794c127c",
   "metadata": {},
   "outputs": [],
   "source": [
    "def change_size(image, dim=75):\n",
    "    img = array_to_img(image, scale=False) #returns PIL Image\n",
    "    img = img.resize((dim, dim)) #resize image\n",
    "    img = img.convert(mode='RGB') #makes 3 channels\n",
    "    arr = img_to_array(img) #convert back to array\n",
    "    return arr.astype(np.float64)"
   ]
  },
  {
   "cell_type": "code",
   "execution_count": 4,
   "id": "7e4a3165",
   "metadata": {},
   "outputs": [],
   "source": [
    "def get_train_test_data(filename: str):\n",
    "    data = pd.read_csv(filename, header=None).values\n",
    "    assert data.shape[1] == 785\n",
    "    train, test = train_test_split(data, random_state=42)\n",
    "    x_train = train[:, 1:]\n",
    "    y_train = train[:, 0]\n",
    "    x_test = test[:, 1:]\n",
    "    y_test = test[:, 0]\n",
    "    return x_train, y_train, x_test, y_test"
   ]
  },
  {
   "cell_type": "code",
   "execution_count": 5,
   "id": "9be9cc9b",
   "metadata": {},
   "outputs": [],
   "source": [
    "def add_model_top_and_compile(model, learning_rate):\n",
    "  model.add(L.Flatten()) #2048\n",
    "  model.add(L.Dense(256, activation='relu'))\n",
    "  model.add(L.Dense(26, activation='softmax'))\n",
    "\n",
    "  model.compile(optimizer=keras.optimizers.Adam(learning_rate=learning_rate), loss='categorical_crossentropy', metrics=['accuracy'])\n",
    "  return model"
   ]
  },
  {
   "cell_type": "code",
   "execution_count": 6,
   "id": "e536d70f",
   "metadata": {},
   "outputs": [],
   "source": [
    "def get_resnet50_emnist_model(learning_rate=0.0001):\n",
    "  model = Sequential()\n",
    "\n",
    "  model.add(tf.keras.applications.resnet50.ResNet50(input_shape = (75, 75, 3), \n",
    "                                  include_top = False, \n",
    "                                  weights = 'imagenet'))\n",
    "\n",
    "  model = add_model_top_and_compile(model, learning_rate)\n",
    "\n",
    "  for layer in model.layers[0].layers:\n",
    "    # print(layer.name)\n",
    "    if layer.name == 'conv5_block1_0_conv':\n",
    "        break\n",
    "    layer.trainable=False\n",
    "  \n",
    "  return model"
   ]
  },
  {
   "cell_type": "code",
   "execution_count": 7,
   "id": "0d5dfa33",
   "metadata": {},
   "outputs": [],
   "source": [
    "def get_mobilenet_v2_emnist_model(learning_rate=0.001):\n",
    "  model = Sequential()\n",
    "\n",
    "  model.add(tf.keras.applications.mobilenet_v2.MobileNetV2(input_shape = (75, 75, 3), \n",
    "                                  include_top = False, \n",
    "                                  weights = 'imagenet'))\n",
    "\n",
    "  model = add_model_top_and_compile(model, learning_rate)\n",
    "\n",
    "  for layer in model.layers[0].layers:\n",
    "    # print(layer.name)\n",
    "    if layer.name == 'conv5_block1_0_conv':\n",
    "        break\n",
    "    layer.trainable=False\n",
    "  \n",
    "  return model"
   ]
  },
  {
   "cell_type": "code",
   "execution_count": 8,
   "id": "ebf4906e",
   "metadata": {},
   "outputs": [],
   "source": [
    "x_train, y_train, x_test, y_test = get_train_test_data(\"emnist-letters-train.csv\")"
   ]
  },
  {
   "cell_type": "code",
   "execution_count": 9,
   "id": "4b5d495a",
   "metadata": {},
   "outputs": [
    {
     "data": {
      "text/plain": [
       "(30000, 75, 75, 3)"
      ]
     },
     "execution_count": 9,
     "metadata": {},
     "output_type": "execute_result"
    }
   ],
   "source": [
    "X_train = np.array(x_train[:30000]).reshape(-1, 28, 28, 1)\n",
    "X_train = [change_size(img) for img in X_train]\n",
    "X_train = np.array(X_train)\n",
    "X_train.shape"
   ]
  },
  {
   "cell_type": "code",
   "execution_count": 10,
   "id": "61dff35c",
   "metadata": {},
   "outputs": [
    {
     "data": {
      "text/plain": [
       "(22200, 75, 75, 3)"
      ]
     },
     "execution_count": 10,
     "metadata": {},
     "output_type": "execute_result"
    }
   ],
   "source": [
    "X_test = np.array(x_test).reshape(-1, 28, 28, 1)\n",
    "X_test = [change_size(img) for img in X_test]\n",
    "X_test = np.array(X_test)\n",
    "X_test.shape"
   ]
  },
  {
   "cell_type": "code",
   "execution_count": 11,
   "id": "98a4eef5",
   "metadata": {},
   "outputs": [],
   "source": [
    "y_train = y_train - 1 # 1:26 -> 0:25\n",
    "y_train = y_train[:30000]\n",
    "y_test = y_test - 1"
   ]
  },
  {
   "cell_type": "code",
   "execution_count": 12,
   "id": "0650e5cd",
   "metadata": {},
   "outputs": [],
   "source": [
    "Y_train = tf.keras.utils.to_categorical(y_train)\n",
    "Y_test = tf.keras.utils.to_categorical(y_test)"
   ]
  },
  {
   "cell_type": "code",
   "execution_count": 13,
   "id": "7707d6e1",
   "metadata": {},
   "outputs": [],
   "source": [
    "LEARNING_RATES=[0.001, 0.0001, 0.00001]"
   ]
  },
  {
   "cell_type": "code",
   "execution_count": 14,
   "id": "94650b31",
   "metadata": {},
   "outputs": [
    {
     "name": "stdout",
     "output_type": "stream",
     "text": [
      "Epoch 1/10\n",
      "938/938 [==============================] - 72s 67ms/step - loss: 0.6267 - accuracy: 0.8212\n",
      "Epoch 2/10\n",
      "938/938 [==============================] - 63s 68ms/step - loss: 0.3123 - accuracy: 0.9014\n",
      "Epoch 3/10\n",
      "938/938 [==============================] - 64s 69ms/step - loss: 0.2755 - accuracy: 0.9115\n",
      "Epoch 4/10\n",
      "938/938 [==============================] - 65s 69ms/step - loss: 0.2199 - accuracy: 0.9254\n",
      "Epoch 5/10\n",
      "938/938 [==============================] - 65s 69ms/step - loss: 0.2702 - accuracy: 0.9165\n",
      "Epoch 6/10\n",
      "938/938 [==============================] - 65s 69ms/step - loss: 0.2370 - accuracy: 0.9227\n",
      "Epoch 7/10\n",
      "938/938 [==============================] - 65s 70ms/step - loss: 0.1796 - accuracy: 0.9391\n",
      "Epoch 8/10\n",
      "938/938 [==============================] - 65s 70ms/step - loss: 0.1532 - accuracy: 0.9448\n",
      "Epoch 9/10\n",
      "938/938 [==============================] - 65s 69ms/step - loss: 0.2020 - accuracy: 0.9344\n",
      "Epoch 10/10\n",
      "938/938 [==============================] - 65s 70ms/step - loss: 0.1479 - accuracy: 0.9481\n",
      "694/694 [==============================] - 17s 22ms/step - loss: 0.2993 - accuracy: 0.9165\n",
      "Learning rate 0.001 Test accuracy: 0.916531503200531\n",
      "Epoch 1/10\n",
      "938/938 [==============================] - 70s 69ms/step - loss: 0.5080 - accuracy: 0.8498\n",
      "Epoch 2/10\n",
      "938/938 [==============================] - 65s 69ms/step - loss: 0.1841 - accuracy: 0.9370\n",
      "Epoch 3/10\n",
      "938/938 [==============================] - 65s 69ms/step - loss: 0.1382 - accuracy: 0.9492\n",
      "Epoch 4/10\n",
      "938/938 [==============================] - 65s 70ms/step - loss: 0.1229 - accuracy: 0.9542\n",
      "Epoch 5/10\n",
      "938/938 [==============================] - 65s 69ms/step - loss: 0.1327 - accuracy: 0.9543\n",
      "Epoch 6/10\n",
      "938/938 [==============================] - 65s 69ms/step - loss: 0.1057 - accuracy: 0.9617\n",
      "Epoch 7/10\n",
      "938/938 [==============================] - 65s 70ms/step - loss: 0.0917 - accuracy: 0.9659\n",
      "Epoch 8/10\n",
      "938/938 [==============================] - 65s 70ms/step - loss: 0.0925 - accuracy: 0.9676\n",
      "Epoch 9/10\n",
      "938/938 [==============================] - 65s 70ms/step - loss: 0.0763 - accuracy: 0.9725\n",
      "Epoch 10/10\n",
      "938/938 [==============================] - 65s 69ms/step - loss: 0.0682 - accuracy: 0.9749\n",
      "694/694 [==============================] - 16s 22ms/step - loss: 0.2613 - accuracy: 0.9359\n",
      "Learning rate 0.0001 Test accuracy: 0.9359459280967712\n",
      "Epoch 1/10\n",
      "938/938 [==============================] - 71s 70ms/step - loss: 1.1156 - accuracy: 0.6774\n",
      "Epoch 2/10\n",
      "938/938 [==============================] - 66s 70ms/step - loss: 0.2918 - accuracy: 0.9041\n",
      "Epoch 3/10\n",
      "938/938 [==============================] - 66s 70ms/step - loss: 0.1443 - accuracy: 0.9508\n",
      "Epoch 4/10\n",
      "938/938 [==============================] - 66s 70ms/step - loss: 0.0822 - accuracy: 0.9722\n",
      "Epoch 5/10\n",
      "938/938 [==============================] - 66s 70ms/step - loss: 0.0567 - accuracy: 0.9815\n",
      "Epoch 6/10\n",
      "938/938 [==============================] - 66s 70ms/step - loss: 0.0419 - accuracy: 0.9862\n",
      "Epoch 7/10\n",
      "938/938 [==============================] - 66s 70ms/step - loss: 0.0309 - accuracy: 0.9896\n",
      "Epoch 8/10\n",
      "938/938 [==============================] - 66s 70ms/step - loss: 0.0258 - accuracy: 0.9913\n",
      "Epoch 9/10\n",
      "938/938 [==============================] - 66s 70ms/step - loss: 0.0228 - accuracy: 0.9929\n",
      "Epoch 10/10\n",
      "938/938 [==============================] - 66s 70ms/step - loss: 0.0188 - accuracy: 0.9942\n",
      "694/694 [==============================] - 16s 22ms/step - loss: 0.3526 - accuracy: 0.9223\n",
      "Learning rate 1e-05 Test accuracy: 0.9223423600196838\n"
     ]
    }
   ],
   "source": [
    "for lr in LEARNING_RATES:\n",
    "    model = get_resnet50_emnist_model(lr)\n",
    "    model.fit(X_train, Y_train,\n",
    "          batch_size=32, epochs=10,\n",
    "          verbose=1)\n",
    "    score = model.evaluate(X_test, Y_test)\n",
    "    print('Learning rate {} Test accuracy: {}'.format(lr, score[1]))"
   ]
  },
  {
   "cell_type": "markdown",
   "id": "893ee55f",
   "metadata": {},
   "source": [
    "# Выделим результаты\n",
    "Learning rate 0.001 Test accuracy: 0.916531503200531\n",
    "\n",
    "Learning rate 0.0001 Test accuracy: 0.9359459280967712\n",
    "\n",
    "Learning rate 1e-05 Test accuracy: 0.9223423600196838\n",
    "\n",
    "Выглядит, что Learning rate 0.0001 не самый плохой вариант"
   ]
  },
  {
   "cell_type": "code",
   "execution_count": null,
   "id": "46e71bbf",
   "metadata": {},
   "outputs": [],
   "source": [
    "model = get_resnet50_emnist_model()"
   ]
  },
  {
   "cell_type": "code",
   "execution_count": null,
   "id": "273e8e6d",
   "metadata": {},
   "outputs": [],
   "source": [
    "model.fit(X_train, Y_train,\n",
    "          batch_size=32, epochs=10,\n",
    "          verbose=1)"
   ]
  },
  {
   "cell_type": "code",
   "execution_count": null,
   "id": "166e638e",
   "metadata": {},
   "outputs": [],
   "source": [
    "score = model.evaluate(X_test, Y_test)\n",
    "print('Test score:', score[0])\n",
    "print('Test accuracy:', score[1])"
   ]
  },
  {
   "cell_type": "code",
   "execution_count": null,
   "id": "76b0e88f",
   "metadata": {},
   "outputs": [],
   "source": [
    "model = get_resnet50_emnist_model(0.00001)"
   ]
  },
  {
   "cell_type": "code",
   "execution_count": null,
   "id": "da0101ea",
   "metadata": {},
   "outputs": [],
   "source": [
    "model.fit(X_train, Y_train,\n",
    "          batch_size=32, epochs=10,\n",
    "          verbose=1)"
   ]
  },
  {
   "cell_type": "code",
   "execution_count": null,
   "id": "c3c14ad9",
   "metadata": {},
   "outputs": [],
   "source": [
    "score = model.evaluate(X_test, Y_test)\n",
    "print('Test score:', score[0])\n",
    "print('Test accuracy:', score[1])"
   ]
  },
  {
   "cell_type": "markdown",
   "id": "767ffc95",
   "metadata": {},
   "source": [
    "# Попробуем MobileNet V2"
   ]
  },
  {
   "cell_type": "code",
   "execution_count": 15,
   "id": "c0c3ee4c",
   "metadata": {},
   "outputs": [],
   "source": [
    "model = Sequential()"
   ]
  },
  {
   "cell_type": "code",
   "execution_count": 16,
   "id": "36eeb1d0",
   "metadata": {},
   "outputs": [
    {
     "name": "stdout",
     "output_type": "stream",
     "text": [
      "Downloading data from https://storage.googleapis.com/tensorflow/keras-applications/mobilenet_v2/mobilenet_v2_weights_tf_dim_ordering_tf_kernels_1.0_96_no_top.h5\n",
      "9412608/9406464 [==============================] - 0s 0us/step\n"
     ]
    }
   ],
   "source": [
    "model.add(tf.keras.applications.mobilenet_v2.MobileNetV2(input_shape = (96, 96, 3), \n",
    "                                  include_top = False, \n",
    "                                  weights = 'imagenet'))"
   ]
  },
  {
   "cell_type": "code",
   "execution_count": 17,
   "id": "b5d1ab67",
   "metadata": {},
   "outputs": [],
   "source": [
    "model.add(L.Flatten()) #2048\n",
    "model.add(L.Dense(256, activation='relu'))\n",
    "model.add(L.Dense(26, activation='softmax'))\n",
    "\n",
    "model.compile(optimizer=keras.optimizers.Adam(learning_rate=0.0001), loss='categorical_crossentropy', metrics=['accuracy'])\n"
   ]
  },
  {
   "cell_type": "code",
   "execution_count": 18,
   "id": "93bf1014",
   "metadata": {},
   "outputs": [
    {
     "name": "stdout",
     "output_type": "stream",
     "text": [
      "Model: \"sequential_3\"\n",
      "_________________________________________________________________\n",
      "Layer (type)                 Output Shape              Param #   \n",
      "=================================================================\n",
      "mobilenetv2_1.00_96 (Functio (None, 3, 3, 1280)        2257984   \n",
      "_________________________________________________________________\n",
      "flatten_3 (Flatten)          (None, 11520)             0         \n",
      "_________________________________________________________________\n",
      "dense_6 (Dense)              (None, 256)               2949376   \n",
      "_________________________________________________________________\n",
      "dense_7 (Dense)              (None, 26)                6682      \n",
      "=================================================================\n",
      "Total params: 5,214,042\n",
      "Trainable params: 5,179,930\n",
      "Non-trainable params: 34,112\n",
      "_________________________________________________________________\n"
     ]
    }
   ],
   "source": [
    "model.summary()"
   ]
  },
  {
   "cell_type": "code",
   "execution_count": 19,
   "id": "e1292715",
   "metadata": {},
   "outputs": [
    {
     "name": "stdout",
     "output_type": "stream",
     "text": [
      "input_4\n",
      "Conv1\n",
      "bn_Conv1\n",
      "Conv1_relu\n",
      "expanded_conv_depthwise\n",
      "expanded_conv_depthwise_BN\n",
      "expanded_conv_depthwise_relu\n",
      "expanded_conv_project\n",
      "expanded_conv_project_BN\n",
      "block_1_expand\n",
      "block_1_expand_BN\n",
      "block_1_expand_relu\n",
      "block_1_pad\n",
      "block_1_depthwise\n",
      "block_1_depthwise_BN\n",
      "block_1_depthwise_relu\n",
      "block_1_project\n",
      "block_1_project_BN\n",
      "block_2_expand\n",
      "block_2_expand_BN\n",
      "block_2_expand_relu\n",
      "block_2_depthwise\n",
      "block_2_depthwise_BN\n",
      "block_2_depthwise_relu\n",
      "block_2_project\n",
      "block_2_project_BN\n",
      "block_2_add\n",
      "block_3_expand\n",
      "block_3_expand_BN\n",
      "block_3_expand_relu\n",
      "block_3_pad\n",
      "block_3_depthwise\n",
      "block_3_depthwise_BN\n",
      "block_3_depthwise_relu\n",
      "block_3_project\n",
      "block_3_project_BN\n",
      "block_4_expand\n",
      "block_4_expand_BN\n",
      "block_4_expand_relu\n",
      "block_4_depthwise\n",
      "block_4_depthwise_BN\n",
      "block_4_depthwise_relu\n",
      "block_4_project\n",
      "block_4_project_BN\n",
      "block_4_add\n",
      "block_5_expand\n",
      "block_5_expand_BN\n",
      "block_5_expand_relu\n",
      "block_5_depthwise\n",
      "block_5_depthwise_BN\n",
      "block_5_depthwise_relu\n",
      "block_5_project\n",
      "block_5_project_BN\n",
      "block_5_add\n",
      "block_6_expand\n",
      "block_6_expand_BN\n",
      "block_6_expand_relu\n",
      "block_6_pad\n",
      "block_6_depthwise\n",
      "block_6_depthwise_BN\n",
      "block_6_depthwise_relu\n",
      "block_6_project\n",
      "block_6_project_BN\n",
      "block_7_expand\n",
      "block_7_expand_BN\n",
      "block_7_expand_relu\n",
      "block_7_depthwise\n",
      "block_7_depthwise_BN\n",
      "block_7_depthwise_relu\n",
      "block_7_project\n",
      "block_7_project_BN\n",
      "block_7_add\n",
      "block_8_expand\n",
      "block_8_expand_BN\n",
      "block_8_expand_relu\n",
      "block_8_depthwise\n",
      "block_8_depthwise_BN\n",
      "block_8_depthwise_relu\n",
      "block_8_project\n",
      "block_8_project_BN\n",
      "block_8_add\n",
      "block_9_expand\n",
      "block_9_expand_BN\n",
      "block_9_expand_relu\n",
      "block_9_depthwise\n",
      "block_9_depthwise_BN\n",
      "block_9_depthwise_relu\n",
      "block_9_project\n",
      "block_9_project_BN\n",
      "block_9_add\n",
      "block_10_expand\n",
      "block_10_expand_BN\n",
      "block_10_expand_relu\n",
      "block_10_depthwise\n",
      "block_10_depthwise_BN\n",
      "block_10_depthwise_relu\n",
      "block_10_project\n",
      "block_10_project_BN\n",
      "block_11_expand\n",
      "block_11_expand_BN\n",
      "block_11_expand_relu\n",
      "block_11_depthwise\n",
      "block_11_depthwise_BN\n",
      "block_11_depthwise_relu\n",
      "block_11_project\n",
      "block_11_project_BN\n",
      "block_11_add\n",
      "block_12_expand\n",
      "block_12_expand_BN\n",
      "block_12_expand_relu\n",
      "block_12_depthwise\n",
      "block_12_depthwise_BN\n",
      "block_12_depthwise_relu\n",
      "block_12_project\n",
      "block_12_project_BN\n",
      "block_12_add\n",
      "block_13_expand\n",
      "block_13_expand_BN\n",
      "block_13_expand_relu\n",
      "block_13_pad\n",
      "block_13_depthwise\n",
      "block_13_depthwise_BN\n",
      "block_13_depthwise_relu\n",
      "block_13_project\n",
      "block_13_project_BN\n",
      "block_14_expand\n",
      "block_14_expand_BN\n",
      "block_14_expand_relu\n",
      "block_14_depthwise\n",
      "block_14_depthwise_BN\n",
      "block_14_depthwise_relu\n",
      "block_14_project\n",
      "block_14_project_BN\n",
      "block_14_add\n",
      "block_15_expand\n",
      "block_15_expand_BN\n",
      "block_15_expand_relu\n",
      "block_15_depthwise\n",
      "block_15_depthwise_BN\n",
      "block_15_depthwise_relu\n",
      "block_15_project\n",
      "block_15_project_BN\n",
      "block_15_add\n",
      "block_16_expand\n",
      "block_16_expand_BN\n",
      "block_16_expand_relu\n",
      "block_16_depthwise\n",
      "block_16_depthwise_BN\n",
      "block_16_depthwise_relu\n",
      "block_16_project\n",
      "block_16_project_BN\n",
      "Conv_1\n",
      "Conv_1_bn\n",
      "out_relu\n"
     ]
    }
   ],
   "source": [
    "for layer in model.layers[0].layers:\n",
    "    print(layer.name)"
   ]
  },
  {
   "cell_type": "markdown",
   "id": "79401bd1",
   "metadata": {},
   "source": [
    "## заблокируем обучение части сети"
   ]
  },
  {
   "cell_type": "code",
   "execution_count": 21,
   "id": "84341bb3",
   "metadata": {},
   "outputs": [],
   "source": [
    "for layer in model.layers[0].layers:\n",
    "    # print(layer.name)\n",
    "    if layer.name == 'block_16_expand':\n",
    "        break\n",
    "    layer.trainable=False"
   ]
  },
  {
   "cell_type": "code",
   "execution_count": 22,
   "id": "52a1f3aa",
   "metadata": {},
   "outputs": [
    {
     "name": "stdout",
     "output_type": "stream",
     "text": [
      "Model: \"sequential_3\"\n",
      "_________________________________________________________________\n",
      "Layer (type)                 Output Shape              Param #   \n",
      "=================================================================\n",
      "mobilenetv2_1.00_96 (Functio (None, 3, 3, 1280)        2257984   \n",
      "_________________________________________________________________\n",
      "flatten_3 (Flatten)          (None, 11520)             0         \n",
      "_________________________________________________________________\n",
      "dense_6 (Dense)              (None, 256)               2949376   \n",
      "_________________________________________________________________\n",
      "dense_7 (Dense)              (None, 26)                6682      \n",
      "=================================================================\n",
      "Total params: 5,214,042\n",
      "Trainable params: 3,842,138\n",
      "Non-trainable params: 1,371,904\n",
      "_________________________________________________________________\n"
     ]
    }
   ],
   "source": [
    "model.summary()"
   ]
  },
  {
   "cell_type": "markdown",
   "id": "7ea8302c",
   "metadata": {},
   "source": [
    "Количество тренируемых параметров упало с 5,179,930 до 3,842,138 - где-то на треть. Видимо, слишком много параметров в top"
   ]
  },
  {
   "cell_type": "code",
   "execution_count": 44,
   "id": "ea708abf",
   "metadata": {},
   "outputs": [],
   "source": [
    "model = Sequential()\n",
    "model.add(tf.keras.applications.mobilenet_v2.MobileNetV2(input_shape = (96, 96, 3), \n",
    "                                  include_top = False, \n",
    "                                  weights = 'imagenet'))\n",
    "model.add(L.Flatten()) #2048\n",
    "model.add(L.Dense(128, activation='relu'))\n",
    "model.add(L.Dense(26, activation='softmax'))\n",
    "\n",
    "model.compile(optimizer=keras.optimizers.Adam(learning_rate=0.0001), loss='categorical_crossentropy', metrics=['accuracy'])\n"
   ]
  },
  {
   "cell_type": "code",
   "execution_count": 34,
   "id": "28a6d080",
   "metadata": {},
   "outputs": [
    {
     "name": "stdout",
     "output_type": "stream",
     "text": [
      "Model: \"sequential_6\"\n",
      "_________________________________________________________________\n",
      "Layer (type)                 Output Shape              Param #   \n",
      "=================================================================\n",
      "mobilenetv2_1.00_96 (Functio (None, 3, 3, 1280)        2257984   \n",
      "_________________________________________________________________\n",
      "flatten_8 (Flatten)          (None, 11520)             0         \n",
      "_________________________________________________________________\n",
      "dense_16 (Dense)             (None, 128)               1474688   \n",
      "_________________________________________________________________\n",
      "dense_17 (Dense)             (None, 26)                3354      \n",
      "=================================================================\n",
      "Total params: 3,736,026\n",
      "Trainable params: 3,701,914\n",
      "Non-trainable params: 34,112\n",
      "_________________________________________________________________\n"
     ]
    }
   ],
   "source": [
    "model.summary()"
   ]
  },
  {
   "cell_type": "code",
   "execution_count": 45,
   "id": "c93daf32",
   "metadata": {},
   "outputs": [],
   "source": [
    "for layer in model.layers[0].layers:\n",
    "    # print(layer.name)\n",
    "    if layer.name == 'block_16_expand':\n",
    "        break\n",
    "    layer.trainable=False"
   ]
  },
  {
   "cell_type": "code",
   "execution_count": 36,
   "id": "2f331da9",
   "metadata": {},
   "outputs": [
    {
     "name": "stdout",
     "output_type": "stream",
     "text": [
      "Model: \"sequential_6\"\n",
      "_________________________________________________________________\n",
      "Layer (type)                 Output Shape              Param #   \n",
      "=================================================================\n",
      "mobilenetv2_1.00_96 (Functio (None, 3, 3, 1280)        2257984   \n",
      "_________________________________________________________________\n",
      "flatten_8 (Flatten)          (None, 11520)             0         \n",
      "_________________________________________________________________\n",
      "dense_16 (Dense)             (None, 128)               1474688   \n",
      "_________________________________________________________________\n",
      "dense_17 (Dense)             (None, 26)                3354      \n",
      "=================================================================\n",
      "Total params: 3,736,026\n",
      "Trainable params: 2,364,122\n",
      "Non-trainable params: 1,371,904\n",
      "_________________________________________________________________\n"
     ]
    }
   ],
   "source": [
    "model.summary()"
   ]
  },
  {
   "cell_type": "code",
   "execution_count": 41,
   "id": "75a973cf",
   "metadata": {},
   "outputs": [
    {
     "data": {
      "text/plain": [
       "(30000, 96, 96, 3)"
      ]
     },
     "execution_count": 41,
     "metadata": {},
     "output_type": "execute_result"
    }
   ],
   "source": [
    "X_train = np.array(x_train[:30000]).reshape(-1, 28, 28, 1)\n",
    "X_train = [change_size(img, 96) for img in X_train]\n",
    "X_train = np.array(X_train)\n",
    "X_train.shape"
   ]
  },
  {
   "cell_type": "code",
   "execution_count": 42,
   "id": "a3d40f77",
   "metadata": {},
   "outputs": [
    {
     "data": {
      "text/plain": [
       "(22200, 96, 96, 3)"
      ]
     },
     "execution_count": 42,
     "metadata": {},
     "output_type": "execute_result"
    }
   ],
   "source": [
    "X_test = np.array(x_test).reshape(-1, 28, 28, 1)\n",
    "X_test = [change_size(img, 96) for img in X_test]\n",
    "X_test = np.array(X_test)\n",
    "X_test.shape"
   ]
  },
  {
   "cell_type": "code",
   "execution_count": 46,
   "id": "bdc308f9",
   "metadata": {},
   "outputs": [
    {
     "name": "stdout",
     "output_type": "stream",
     "text": [
      "Epoch 1/10\n",
      "938/938 [==============================] - 44s 43ms/step - loss: 0.5658 - accuracy: 0.8274\n",
      "Epoch 2/10\n",
      "938/938 [==============================] - 40s 42ms/step - loss: 0.2061 - accuracy: 0.9294\n",
      "Epoch 3/10\n",
      "938/938 [==============================] - 40s 43ms/step - loss: 0.1483 - accuracy: 0.9457\n",
      "Epoch 4/10\n",
      "938/938 [==============================] - 40s 42ms/step - loss: 0.1306 - accuracy: 0.9514\n",
      "Epoch 5/10\n",
      "938/938 [==============================] - 40s 43ms/step - loss: 0.1131 - accuracy: 0.9560\n",
      "Epoch 6/10\n",
      "938/938 [==============================] - 40s 42ms/step - loss: 0.1083 - accuracy: 0.9580\n",
      "Epoch 7/10\n",
      "938/938 [==============================] - 40s 42ms/step - loss: 0.0936 - accuracy: 0.9635\n",
      "Epoch 8/10\n",
      "938/938 [==============================] - 40s 43ms/step - loss: 0.0880 - accuracy: 0.9656\n",
      "Epoch 9/10\n",
      "938/938 [==============================] - 40s 43ms/step - loss: 0.0839 - accuracy: 0.9664\n",
      "Epoch 10/10\n",
      "938/938 [==============================] - 40s 42ms/step - loss: 0.0742 - accuracy: 0.9714\n"
     ]
    },
    {
     "data": {
      "text/plain": [
       "<tensorflow.python.keras.callbacks.History at 0x7f3da0929908>"
      ]
     },
     "execution_count": 46,
     "metadata": {},
     "output_type": "execute_result"
    }
   ],
   "source": [
    "model.fit(X_train, Y_train,\n",
    "          batch_size=32, epochs=10,\n",
    "          verbose=1)"
   ]
  },
  {
   "cell_type": "code",
   "execution_count": null,
   "id": "784e1601",
   "metadata": {},
   "outputs": [],
   "source": [
    "score = model.evaluate(X_test, Y_test)\n",
    "print('Test score:', score[0])\n",
    "print('Test accuracy:', score[1])"
   ]
  },
  {
   "cell_type": "code",
   "execution_count": null,
   "id": "bba37015",
   "metadata": {},
   "outputs": [],
   "source": []
  }
 ],
 "metadata": {
  "kernelspec": {
   "display_name": "Python 3",
   "language": "python",
   "name": "python3"
  },
  "language_info": {
   "codemirror_mode": {
    "name": "ipython",
    "version": 3
   },
   "file_extension": ".py",
   "mimetype": "text/x-python",
   "name": "python",
   "nbconvert_exporter": "python",
   "pygments_lexer": "ipython3",
   "version": "3.6.9"
  }
 },
 "nbformat": 4,
 "nbformat_minor": 5
}
