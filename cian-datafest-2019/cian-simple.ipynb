{
 "cells": [
  {
   "cell_type": "code",
   "execution_count": 28,
   "id": "4e869a63",
   "metadata": {},
   "outputs": [
    {
     "name": "stdout",
     "output_type": "stream",
     "text": [
      "Defaulting to user installation because normal site-packages is not writeable\n",
      "Collecting kaggle\n",
      "  Using cached kaggle-1.5.12-py3-none-any.whl\n",
      "Requirement already satisfied: certifi in /opt/intel/oneapi/intelpython/python3.7/lib/python3.7/site-packages (from kaggle) (2020.12.5)\n",
      "Collecting python-slugify\n",
      "  Using cached python_slugify-5.0.2-py2.py3-none-any.whl (6.7 kB)\n",
      "Requirement already satisfied: six>=1.10 in /opt/aicloud/user-packages/lib/python3.7/site-packages (from kaggle) (1.16.0)\n",
      "Requirement already satisfied: requests in /opt/intel/oneapi/intelpython/python3.7/lib/python3.7/site-packages (from kaggle) (2.25.1)\n",
      "Requirement already satisfied: urllib3 in /opt/intel/oneapi/intelpython/python3.7/lib/python3.7/site-packages (from kaggle) (1.26.4)\n",
      "Requirement already satisfied: tqdm in /opt/intel/oneapi/intelpython/python3.7/lib/python3.7/site-packages (from kaggle) (0.0.0)\n",
      "Requirement already satisfied: python-dateutil in /opt/aicloud/user-packages/lib/python3.7/site-packages (from kaggle) (2.8.2)\n",
      "Collecting text-unidecode>=1.3\n",
      "  Using cached text_unidecode-1.3-py2.py3-none-any.whl (78 kB)\n",
      "Requirement already satisfied: chardet<5,>=3.0.2 in /opt/intel/oneapi/intelpython/python3.7/lib/python3.7/site-packages (from requests->kaggle) (4.0.0)\n",
      "Requirement already satisfied: idna<3,>=2.5 in /opt/aicloud/user-packages/lib/python3.7/site-packages (from requests->kaggle) (2.10)\n",
      "Installing collected packages: text-unidecode, python-slugify, kaggle\n",
      "Successfully installed kaggle-1.5.12 python-slugify-5.0.2 text-unidecode-1.3\n"
     ]
    }
   ],
   "source": [
    "!pip install kaggle"
   ]
  },
  {
   "cell_type": "code",
   "execution_count": 1,
   "id": "6268ccef",
   "metadata": {},
   "outputs": [
    {
     "name": "stdout",
     "output_type": "stream",
     "text": [
      "usage: kaggle [-h] [-v] {competitions,c,datasets,d,kernels,k,config} ...\r\n",
      "kaggle: error: the following arguments are required: command\r\n"
     ]
    }
   ],
   "source": [
    "!kaggle competitions download -c cian-datafest-2019"
   ]
  },
  {
   "cell_type": "code",
   "execution_count": null,
   "id": "e75059c9",
   "metadata": {},
   "outputs": [],
   "source": [
    "!unzip cian-datafest-2019.zip"
   ]
  },
  {
   "cell_type": "code",
   "execution_count": null,
   "id": "642ce339",
   "metadata": {},
   "outputs": [],
   "source": [
    "!mkdir cian-datafest-2019"
   ]
  },
  {
   "cell_type": "code",
   "execution_count": null,
   "id": "50a74127",
   "metadata": {},
   "outputs": [],
   "source": [
    "!mv cian_datafest.zip test.zip train.zip cian-datafest-2019"
   ]
  },
  {
   "cell_type": "code",
   "execution_count": null,
   "id": "a3048556",
   "metadata": {},
   "outputs": [],
   "source": [
    "!unzip -q cian-datafest-2019/train.zip -d cian-datafest-2019"
   ]
  },
  {
   "cell_type": "code",
   "execution_count": 3,
   "id": "65086141",
   "metadata": {},
   "outputs": [],
   "source": [
    "!unzip -qo cian-datafest-2019/test.zip -d cian-datafest-2019"
   ]
  },
  {
   "cell_type": "code",
   "execution_count": 1,
   "id": "0e401b10",
   "metadata": {},
   "outputs": [],
   "source": [
    "from glob import glob\n",
    "\n",
    "train_images = glob ('cian-datafest-2019/train/*/*.jpg')"
   ]
  },
  {
   "cell_type": "code",
   "execution_count": 2,
   "id": "4b359dab",
   "metadata": {},
   "outputs": [],
   "source": [
    "import resource\n",
    "resource.setrlimit(resource.RLIMIT_NOFILE, (131072, 131072))"
   ]
  },
  {
   "cell_type": "markdown",
   "id": "5c43e8ac",
   "metadata": {},
   "source": [
    "# Добавим локальности - довавим среднее по каналам в верхней части и в нижней"
   ]
  },
  {
   "cell_type": "code",
   "execution_count": 3,
   "id": "a5106fb9",
   "metadata": {},
   "outputs": [],
   "source": [
    "from PIL import Image\n",
    "import numpy as np\n",
    "\n",
    "indoor=[]\n",
    "outdoor=[]\n",
    "\n",
    "def get_features(image):\n",
    "    np_image = np.array(image) #преобразуем в массив\n",
    "    half_height = np_image.shape[1] // 2\n",
    "\n",
    "    \n",
    "    features = []\n",
    "    for c in range(3):\n",
    "        upper = np_image[:half_height, :, c]\n",
    "        lower = np_image[half_height:, :, c]\n",
    "        upper_non_black = upper[upper > 0]\n",
    "        lower_non_black = lower[lower > 0]\n",
    "        if upper_non_black.size == 0 or lower_non_black.size == 0:\n",
    "            return []\n",
    "        features.extend([upper_non_black.mean(), lower_non_black.mean()])  # ignore black\n",
    "    return features\n",
    "\n",
    "for path in train_images:\n",
    "    image = Image.open(path).convert(mode='RGB') #открываем картинку\n",
    "\n",
    "    features = get_features(image)\n",
    "    if len(features) == 0:\n",
    "        continue\n",
    "    \n",
    "    image_class = path.split('/')[-2] #определяем класс\n",
    "\n",
    "    if image_class == 'indoor':\n",
    "        indoor.append(features)\n",
    "    else:\n",
    "        outdoor.append(features)"
   ]
  },
  {
   "cell_type": "code",
   "execution_count": 4,
   "id": "c7764265",
   "metadata": {},
   "outputs": [
    {
     "data": {
      "text/plain": [
       "(27674, 26577)"
      ]
     },
     "execution_count": 4,
     "metadata": {},
     "output_type": "execute_result"
    }
   ],
   "source": [
    "len(indoor), len(outdoor)"
   ]
  },
  {
   "cell_type": "code",
   "execution_count": 6,
   "id": "447d545d",
   "metadata": {},
   "outputs": [],
   "source": [
    "X=indoor+outdoor\n",
    "y=[0 for i in range(len(indoor))]+[1 for i in range(len(outdoor))]"
   ]
  },
  {
   "cell_type": "code",
   "execution_count": 7,
   "id": "837b62be",
   "metadata": {},
   "outputs": [],
   "source": [
    "from sklearn.ensemble import RandomForestClassifier\n",
    "from sklearn.linear_model import LogisticRegression\n",
    "from sklearn.svm import SVC\n",
    "from sklearn.model_selection import train_test_split"
   ]
  },
  {
   "cell_type": "code",
   "execution_count": 8,
   "id": "33a9e20a",
   "metadata": {},
   "outputs": [],
   "source": [
    "X_train, X_test, y_train, y_test = train_test_split(X, y, random_state=42)"
   ]
  },
  {
   "cell_type": "code",
   "execution_count": 9,
   "id": "ec19f913",
   "metadata": {},
   "outputs": [],
   "source": [
    "log_clf = LogisticRegression(solver=\"lbfgs\", random_state=42)\n",
    "svm_clf = SVC(gamma=\"scale\", random_state=42)\n",
    "rnd_clf = RandomForestClassifier(n_estimators=100, random_state=42)"
   ]
  },
  {
   "cell_type": "code",
   "execution_count": 10,
   "id": "36911eca",
   "metadata": {},
   "outputs": [],
   "source": [
    "from sklearn.ensemble import VotingClassifier\n",
    "voting_clf = VotingClassifier(\n",
    "    estimators=[('lr', log_clf), ('rf', rnd_clf), ('svm', svm_clf)],\n",
    "    voting='hard'\n",
    ")"
   ]
  },
  {
   "cell_type": "code",
   "execution_count": 11,
   "id": "fc3983b7",
   "metadata": {},
   "outputs": [
    {
     "data": {
      "text/plain": [
       "VotingClassifier(estimators=[('lr', LogisticRegression(random_state=42)),\n",
       "                             ('rf', RandomForestClassifier(random_state=42)),\n",
       "                             ('svm', SVC(random_state=42))])"
      ]
     },
     "execution_count": 11,
     "metadata": {},
     "output_type": "execute_result"
    }
   ],
   "source": [
    "voting_clf.fit(X_train, y_train)"
   ]
  },
  {
   "cell_type": "code",
   "execution_count": 12,
   "id": "e7724135",
   "metadata": {},
   "outputs": [],
   "source": [
    "from sklearn.metrics import accuracy_score"
   ]
  },
  {
   "cell_type": "code",
   "execution_count": 13,
   "id": "8749949a",
   "metadata": {},
   "outputs": [],
   "source": [
    "y_pred = voting_clf.predict(X_test)"
   ]
  },
  {
   "cell_type": "code",
   "execution_count": 14,
   "id": "f8f2598b",
   "metadata": {},
   "outputs": [
    {
     "name": "stdout",
     "output_type": "stream",
     "text": [
      "0.8232691882326919\n"
     ]
    }
   ],
   "source": [
    "print(accuracy_score(y_test, y_pred))"
   ]
  },
  {
   "cell_type": "markdown",
   "id": "f761562f",
   "metadata": {},
   "source": [
    "# Проверим метрику и отправим результат в kaggle"
   ]
  },
  {
   "cell_type": "code",
   "execution_count": 5,
   "id": "2ccd54ca",
   "metadata": {},
   "outputs": [],
   "source": [
    "from sklearn.metrics import roc_auc_score"
   ]
  },
  {
   "cell_type": "code",
   "execution_count": 16,
   "id": "39d925da",
   "metadata": {},
   "outputs": [
    {
     "data": {
      "text/plain": [
       "0.8226523765752731"
      ]
     },
     "execution_count": 16,
     "metadata": {},
     "output_type": "execute_result"
    }
   ],
   "source": [
    "y_hat = ((y_pred > 0.5) + 0.0).astype('int')\n",
    "roc_auc_score(list(y_test), list(y_hat))"
   ]
  },
  {
   "cell_type": "code",
   "execution_count": 18,
   "id": "246b31d4",
   "metadata": {},
   "outputs": [],
   "source": [
    "res=[]\n",
    "image_ids = [] \n",
    "X_submit = []\n",
    "\n",
    "test_images = glob ('cian-datafest-2019/test/*.jpg')\n",
    "\n",
    "for path in test_images:\n",
    "    imageid = int(path.split('/')[-1].replace('.jpg',''))\n",
    "    image_ids.append(imageid)\n",
    "    \n",
    "    image = Image.open(path).resize((100, 100), Image.ANTIALIAS).convert(mode='RGB')\n",
    "    features = get_features(image)\n",
    "    X_submit.append(features)"
   ]
  },
  {
   "cell_type": "code",
   "execution_count": 19,
   "id": "8efd0f35",
   "metadata": {},
   "outputs": [],
   "source": [
    "y_pred = voting_clf.predict(X_submit)\n",
    "y_hat = ((y_pred > 0.5) + 0.0).astype('int')"
   ]
  },
  {
   "cell_type": "code",
   "execution_count": 22,
   "id": "b2b7a5b9",
   "metadata": {},
   "outputs": [],
   "source": [
    "res = list(zip(image_ids, y_hat))"
   ]
  },
  {
   "cell_type": "code",
   "execution_count": 25,
   "id": "2ac0f595",
   "metadata": {},
   "outputs": [],
   "source": [
    "import pandas as pd\n",
    "df = pd.DataFrame(res, columns=['image_number','prob_outdoor'])"
   ]
  },
  {
   "cell_type": "code",
   "execution_count": 26,
   "id": "a6d64cc9",
   "metadata": {},
   "outputs": [],
   "source": [
    "df.to_csv('submission.csv',index=False)"
   ]
  },
  {
   "cell_type": "code",
   "execution_count": 29,
   "id": "b95b9ce9",
   "metadata": {},
   "outputs": [],
   "source": [
    "from kaggle.api.kaggle_api_extended import KaggleApi\n",
    "kaggle = KaggleApi()\n",
    "kaggle.authenticate()\n",
    "COMPETITION=\"cian-datafest-2019\""
   ]
  },
  {
   "cell_type": "code",
   "execution_count": 30,
   "id": "1fca74f7",
   "metadata": {},
   "outputs": [
    {
     "name": "stderr",
     "output_type": "stream",
     "text": [
      "100%|██████████| 212k/212k [00:02<00:00, 78.8kB/s] \n"
     ]
    },
    {
     "data": {
      "text/plain": [
       "Successfully submitted to Классификация изображений"
      ]
     },
     "execution_count": 30,
     "metadata": {},
     "output_type": "execute_result"
    }
   ],
   "source": [
    "kaggle.competition_submit(\"submission.csv\", \"VotingCLF\", COMPETITION)"
   ]
  },
  {
   "cell_type": "markdown",
   "id": "b1569022",
   "metadata": {},
   "source": [
    "# Получен результат 0.82898 private score и 0.83260 public score"
   ]
  },
  {
   "cell_type": "markdown",
   "id": "6a85ecd0",
   "metadata": {},
   "source": [
    "# Посмотрим отдельно результаты по классификаторам"
   ]
  },
  {
   "cell_type": "code",
   "execution_count": 15,
   "id": "6c87aa4d",
   "metadata": {},
   "outputs": [],
   "source": [
    "log_clf = LogisticRegression(solver=\"lbfgs\", random_state=42)\n",
    "svm_clf = SVC(gamma=\"scale\", random_state=42)\n",
    "rnd_clf = RandomForestClassifier(n_estimators=100, random_state=42)"
   ]
  },
  {
   "cell_type": "code",
   "execution_count": 17,
   "id": "1ee301b9",
   "metadata": {},
   "outputs": [
    {
     "name": "stdout",
     "output_type": "stream",
     "text": [
      "<class 'sklearn.linear_model._logistic.LogisticRegression'>\n",
      "0.8029934380299344\n",
      "<class 'sklearn.svm._classes.SVC'>\n",
      "0.8259234682592347\n",
      "<class 'sklearn.ensemble._forest.RandomForestClassifier'>\n",
      "0.8064587480645875\n"
     ]
    }
   ],
   "source": [
    "for clf in [log_clf, svm_clf, rnd_clf]:\n",
    "    print(clf.__class__)\n",
    "    clf.fit(X_train, y_train)\n",
    "    y_pred = clf.predict(X_test)\n",
    "    print(accuracy_score(y_test, y_pred))"
   ]
  },
  {
   "cell_type": "code",
   "execution_count": null,
   "id": "07acf779",
   "metadata": {},
   "outputs": [],
   "source": []
  },
  {
   "cell_type": "markdown",
   "id": "e27f8c46",
   "metadata": {},
   "source": [
    "# Теперь без sklearn, но с gradient descend"
   ]
  },
  {
   "cell_type": "code",
   "execution_count": 20,
   "id": "a52b70a4",
   "metadata": {},
   "outputs": [
    {
     "data": {
      "text/plain": [
       "array([[1.        , 0.49420096, 0.4058399 , 0.47798327, 0.40434383,\n",
       "        0.4688757 , 0.37851706],\n",
       "       [1.        , 0.69615084, 0.41565515, 0.51076802, 0.3236475 ,\n",
       "        0.3702577 , 0.27075088],\n",
       "       [1.        , 0.54271102, 0.35509291, 0.63919843, 0.38896693,\n",
       "        0.77721417, 0.24813564],\n",
       "       [1.        , 0.46984323, 0.56486137, 0.4427254 , 0.54593954,\n",
       "        0.40184436, 0.53474228],\n",
       "       [1.        , 0.47404582, 0.37338425, 0.50857287, 0.36447717,\n",
       "        0.53926844, 0.30093088],\n",
       "       [1.        , 0.51694104, 0.38381041, 0.50627996, 0.33081172,\n",
       "        0.49539733, 0.3330146 ],\n",
       "       [1.        , 0.58600038, 0.66708661, 0.60036614, 0.63056841,\n",
       "        0.60964803, 0.60029774],\n",
       "       [1.        , 0.68259772, 0.47839484, 0.7174264 , 0.51407907,\n",
       "        0.68721998, 0.50988669],\n",
       "       [1.        , 0.88762598, 0.83852028, 0.79782562, 0.78487627,\n",
       "        0.7458191 , 0.7611492 ],\n",
       "       [1.        , 0.46053148, 0.37462843, 0.56264173, 0.49548425,\n",
       "        0.53819517, 0.32854148]])"
      ]
     },
     "execution_count": 20,
     "metadata": {},
     "output_type": "execute_result"
    }
   ],
   "source": [
    "X_train, X_test, y_train, y_test = train_test_split(X, y, random_state=42)\n",
    "X_train = np.array(X_train)\n",
    "y_train = np.array(y_train)\n",
    "\n",
    "# add bias\n",
    "X_train = np.concatenate((np.ones((len(X_train),1)),X_train),axis=1)\n",
    "\n",
    "# normalize values\n",
    "Xnorm = np.array(X_train).copy()\n",
    "minx = np.min(X_train[:,1:])\n",
    "maxx = np.max(X_train[:,1:])\n",
    "Xnorm[:,1:] = (X_train[:,1:]-minx)/(maxx-minx)\n",
    "Xnorm[:10,:]"
   ]
  },
  {
   "cell_type": "code",
   "execution_count": 21,
   "id": "47062b80",
   "metadata": {},
   "outputs": [],
   "source": [
    "ynorm = y_train.copy()\n",
    "m = len(ynorm)"
   ]
  },
  {
   "cell_type": "code",
   "execution_count": 22,
   "id": "9743d4f6",
   "metadata": {},
   "outputs": [],
   "source": [
    "theta0 = np.zeros((X_train.shape[1],1))+0.4"
   ]
  },
  {
   "cell_type": "code",
   "execution_count": 23,
   "id": "d8bcce4e",
   "metadata": {},
   "outputs": [
    {
     "name": "stdout",
     "output_type": "stream",
     "text": [
      "(7, 1) (40688, 7)\n"
     ]
    }
   ],
   "source": [
    "print(theta0.shape, Xnorm.shape)"
   ]
  },
  {
   "cell_type": "code",
   "execution_count": null,
   "id": "48e0398b",
   "metadata": {},
   "outputs": [],
   "source": [
    "a = Xnorm.dot(theta0)-ynorm\n",
    "print(a.shape, Xnorm.shape)"
   ]
  },
  {
   "cell_type": "code",
   "execution_count": 17,
   "id": "c1b637d3",
   "metadata": {},
   "outputs": [],
   "source": [
    "# calculate gradient\n",
    "def grad(theta):\n",
    "    dJ = 1/m*np.sum((Xnorm.dot(theta)-ynorm)*Xnorm,axis=0).reshape(-1,1)\n",
    "    return dJ"
   ]
  },
  {
   "cell_type": "code",
   "execution_count": null,
   "id": "0f8f71ae",
   "metadata": {},
   "outputs": [],
   "source": [
    "grad(theta0)"
   ]
  },
  {
   "cell_type": "code",
   "execution_count": 16,
   "id": "de44c89f",
   "metadata": {},
   "outputs": [],
   "source": [
    "def cost(theta):\n",
    "    J = np.sum((Xnorm.dot(theta)-ynorm)**2,axis=0)[0]\n",
    "    return J"
   ]
  },
  {
   "cell_type": "code",
   "execution_count": 17,
   "id": "7d58e038",
   "metadata": {},
   "outputs": [],
   "source": [
    "def GD(theta0,learning_rate = 0.5,epochs=1000,TOL=1e-7):\n",
    "    \n",
    "    theta_history = [theta0]\n",
    "    J_history = [cost(theta0)]\n",
    "    \n",
    "    thetanew = theta0*10000\n",
    "    print(f'epoch \\t Cost(J) \\t')\n",
    "    for epoch in range(epochs):\n",
    "        if epoch%100 == 0:\n",
    "            print(f'{epoch:5d}\\t{J_history[-1]:7.4f}\\t')\n",
    "        dJ = grad(theta0)\n",
    "        J = cost(theta0)\n",
    "        \n",
    "        thetanew = theta0 - learning_rate*dJ\n",
    "        theta_history.append(thetanew)\n",
    "        J_history.append(J)\n",
    "        \n",
    "        if np.sum((thetanew - theta0)**2) < TOL:\n",
    "            print('Convergence achieved.')\n",
    "            break\n",
    "        theta0 = thetanew\n",
    "\n",
    "    return thetanew,theta_history,J_history"
   ]
  },
  {
   "cell_type": "code",
   "execution_count": null,
   "id": "9dfffc4b",
   "metadata": {},
   "outputs": [],
   "source": []
  }
 ],
 "metadata": {
  "kernelspec": {
   "display_name": "Python 3 (ipykernel)",
   "language": "python",
   "name": "python3"
  },
  "language_info": {
   "codemirror_mode": {
    "name": "ipython",
    "version": 3
   },
   "file_extension": ".py",
   "mimetype": "text/x-python",
   "name": "python",
   "nbconvert_exporter": "python",
   "pygments_lexer": "ipython3",
   "version": "3.7.10"
  }
 },
 "nbformat": 4,
 "nbformat_minor": 5
}
