{
 "cells": [
  {
   "cell_type": "code",
   "execution_count": 1,
   "id": "2723da08",
   "metadata": {},
   "outputs": [
    {
     "name": "stdout",
     "output_type": "stream",
     "text": [
      "usage: kaggle [-h] [-v] {competitions,c,datasets,d,kernels,k,config} ...\r\n",
      "kaggle: error: the following arguments are required: command\r\n"
     ]
    }
   ],
   "source": [
    "!kaggle competitions download -c cian-datafest-2019"
   ]
  },
  {
   "cell_type": "code",
   "execution_count": null,
   "id": "e2906cdf",
   "metadata": {},
   "outputs": [],
   "source": [
    "!unzip cian-datafest-2019.zip"
   ]
  },
  {
   "cell_type": "code",
   "execution_count": null,
   "id": "3f34365d",
   "metadata": {},
   "outputs": [],
   "source": [
    "!mkdir cian-datafest-2019"
   ]
  },
  {
   "cell_type": "code",
   "execution_count": null,
   "id": "6f6ef952",
   "metadata": {},
   "outputs": [],
   "source": [
    "!mv cian_datafest.zip test.zip train.zip cian-datafest-2019"
   ]
  },
  {
   "cell_type": "code",
   "execution_count": null,
   "id": "c9a0425f",
   "metadata": {},
   "outputs": [],
   "source": [
    "!unzip -q cian-datafest-2019/train.zip -d cian-datafest-2019"
   ]
  },
  {
   "cell_type": "code",
   "execution_count": 3,
   "id": "31b119d3",
   "metadata": {},
   "outputs": [],
   "source": [
    "!unzip -qo cian-datafest-2019/test.zip -d cian-datafest-2019"
   ]
  },
  {
   "cell_type": "code",
   "execution_count": 1,
   "id": "69c6d6cc",
   "metadata": {},
   "outputs": [],
   "source": [
    "from glob import glob\n",
    "\n",
    "train_images = glob ('cian-datafest-2019/train/*/*.jpg')"
   ]
  },
  {
   "cell_type": "code",
   "execution_count": 2,
   "id": "001a7239",
   "metadata": {},
   "outputs": [],
   "source": [
    "import resource\n",
    "resource.setrlimit(resource.RLIMIT_NOFILE, (131072, 131072))"
   ]
  },
  {
   "cell_type": "markdown",
   "id": "6b116807",
   "metadata": {},
   "source": [
    "# Добавим локальности - довавим среднее по каналам в верхней части и в нижней"
   ]
  },
  {
   "cell_type": "code",
   "execution_count": 3,
   "id": "39ba41d7",
   "metadata": {},
   "outputs": [
    {
     "ename": "NameError",
     "evalue": "name 'Image' is not defined",
     "output_type": "error",
     "traceback": [
      "\u001b[0;31m---------------------------------------------------------------------------\u001b[0m",
      "\u001b[0;31mNameError\u001b[0m                                 Traceback (most recent call last)",
      "\u001b[0;32m/tmp/ipykernel_34/1454652113.py\u001b[0m in \u001b[0;36m<module>\u001b[0;34m\u001b[0m\n\u001b[0;32m----> 1\u001b[0;31m \u001b[0mimage\u001b[0m \u001b[0;34m=\u001b[0m \u001b[0mImage\u001b[0m\u001b[0;34m.\u001b[0m\u001b[0mopen\u001b[0m\u001b[0;34m(\u001b[0m\u001b[0;34m\"cian-datafest-2019/train/outdoor/4688.jpg\"\u001b[0m\u001b[0;34m)\u001b[0m\u001b[0;34m.\u001b[0m\u001b[0mconvert\u001b[0m\u001b[0;34m(\u001b[0m\u001b[0mmode\u001b[0m\u001b[0;34m=\u001b[0m\u001b[0;34m'RGB'\u001b[0m\u001b[0;34m)\u001b[0m\u001b[0;34m\u001b[0m\u001b[0;34m\u001b[0m\u001b[0m\n\u001b[0m\u001b[1;32m      2\u001b[0m \u001b[0mnp_image\u001b[0m \u001b[0;34m=\u001b[0m \u001b[0mnp\u001b[0m\u001b[0;34m.\u001b[0m\u001b[0marray\u001b[0m\u001b[0;34m(\u001b[0m\u001b[0mimage\u001b[0m\u001b[0;34m)\u001b[0m\u001b[0;34m\u001b[0m\u001b[0;34m\u001b[0m\u001b[0m\n\u001b[1;32m      3\u001b[0m \u001b[0mprint\u001b[0m\u001b[0;34m(\u001b[0m\u001b[0mnp_image\u001b[0m\u001b[0;34m.\u001b[0m\u001b[0mshape\u001b[0m\u001b[0;34m)\u001b[0m\u001b[0;34m\u001b[0m\u001b[0;34m\u001b[0m\u001b[0m\n\u001b[1;32m      4\u001b[0m \u001b[0mhalf_height\u001b[0m \u001b[0;34m=\u001b[0m \u001b[0mimage\u001b[0m\u001b[0;34m.\u001b[0m\u001b[0mheight\u001b[0m \u001b[0;34m//\u001b[0m \u001b[0;36m2\u001b[0m\u001b[0;34m\u001b[0m\u001b[0;34m\u001b[0m\u001b[0m\n\u001b[1;32m      5\u001b[0m \u001b[0mprint\u001b[0m\u001b[0;34m(\u001b[0m\u001b[0mhalf_height\u001b[0m\u001b[0;34m)\u001b[0m\u001b[0;34m\u001b[0m\u001b[0;34m\u001b[0m\u001b[0m\n",
      "\u001b[0;31mNameError\u001b[0m: name 'Image' is not defined"
     ]
    }
   ],
   "source": [
    "image = Image.open(\"cian-datafest-2019/train/outdoor/4688.jpg\").convert(mode='RGB')\n",
    "np_image = np.array(image)\n",
    "print(np_image.shape)\n",
    "half_height = image.height // 2\n",
    "print(half_height)\n",
    "upper = np_image[:, :half_height, c]\n",
    "lower = np_image[:, half_height:, c]\n",
    "upper.mean()\n",
    "upper.shape"
   ]
  },
  {
   "cell_type": "code",
   "execution_count": 46,
   "id": "0a502c4c",
   "metadata": {},
   "outputs": [
    {
     "data": {
      "image/png": "[encoded data removed]",
      "text/plain": [
       "<PIL.Image.Image image mode=RGB size=48x100 at 0x7F03AD0D9E10>"
      ]
     },
     "execution_count": 46,
     "metadata": {},
     "output_type": "execute_result"
    }
   ],
   "source": [
    "import matplotlib.pyplot as plt\n",
    "image"
   ]
  },
  {
   "cell_type": "code",
   "execution_count": 4,
   "id": "8b56635f",
   "metadata": {},
   "outputs": [],
   "source": [
    "from PIL import Image\n",
    "import numpy as np\n",
    "\n",
    "indoor=[]\n",
    "outdoor=[]\n",
    "\n",
    "def get_features(image):\n",
    "    np_image = np.array(image) #преобразуем в массив\n",
    "    half_height = np_image.shape[1] // 2\n",
    "\n",
    "    \n",
    "    features = []\n",
    "    for c in range(3):\n",
    "        upper = np_image[:half_height, :, c]\n",
    "        lower = np_image[half_height:, :, c]\n",
    "        upper_non_black = upper[upper > 0]\n",
    "        lower_non_black = lower[lower > 0]\n",
    "        if upper_non_black.size == 0 or lower_non_black.size == 0:\n",
    "            return []\n",
    "        features.extend([upper_non_black.mean(), lower_non_black.mean()])  # ignore black\n",
    "    return features\n",
    "\n",
    "for path in train_images:\n",
    "    image = Image.open(path).convert(mode='RGB') #открываем картинку\n",
    "\n",
    "    features = get_features(image)\n",
    "    if len(features) == 0:\n",
    "        continue\n",
    "    \n",
    "    image_class = path.split('/')[-2] #определяем класс\n",
    "\n",
    "    if image_class == 'indoor':\n",
    "        indoor.append(features)\n",
    "    else:\n",
    "        outdoor.append(features)"
   ]
  },
  {
   "cell_type": "code",
   "execution_count": 5,
   "id": "9f1ddc5d",
   "metadata": {},
   "outputs": [
    {
     "data": {
      "text/plain": [
       "(27674, 26577)"
      ]
     },
     "execution_count": 5,
     "metadata": {},
     "output_type": "execute_result"
    }
   ],
   "source": [
    "len(indoor), len(outdoor)"
   ]
  },
  {
   "cell_type": "code",
   "execution_count": 6,
   "id": "1f2099f4",
   "metadata": {},
   "outputs": [],
   "source": [
    "X=indoor+outdoor\n",
    "y=[0 for i in range(len(indoor))]+[1 for i in range(len(outdoor))]"
   ]
  },
  {
   "cell_type": "code",
   "execution_count": 7,
   "id": "44750317",
   "metadata": {},
   "outputs": [],
   "source": [
    "from sklearn.ensemble import RandomForestClassifier\n",
    "from sklearn.linear_model import LogisticRegression\n",
    "from sklearn.svm import SVC\n",
    "from sklearn.model_selection import train_test_split"
   ]
  },
  {
   "cell_type": "code",
   "execution_count": 8,
   "id": "797103b7",
   "metadata": {},
   "outputs": [],
   "source": [
    "X_train, X_test, y_train, y_test = train_test_split(X, y, random_state=42)"
   ]
  },
  {
   "cell_type": "code",
   "execution_count": 79,
   "id": "00c5d7b4",
   "metadata": {},
   "outputs": [],
   "source": [
    "log_clf = LogisticRegression(solver=\"lbfgs\", random_state=42)\n",
    "svm_clf = SVC(gamma=\"scale\", random_state=42)\n",
    "rnd_clf = RandomForestClassifier(n_estimators=100, random_state=42)"
   ]
  },
  {
   "cell_type": "code",
   "execution_count": 80,
   "id": "5b635217",
   "metadata": {},
   "outputs": [],
   "source": [
    "from sklearn.ensemble import VotingClassifier\n",
    "voting_clf = VotingClassifier(\n",
    "    estimators=[('lr', log_clf), ('rf', rnd_clf), ('svm', svm_clf)],\n",
    "    voting='hard'\n",
    ")"
   ]
  },
  {
   "cell_type": "code",
   "execution_count": 81,
   "id": "7b597684",
   "metadata": {},
   "outputs": [
    {
     "data": {
      "text/plain": [
       "VotingClassifier(estimators=[('lr', LogisticRegression(random_state=42)),\n",
       "                             ('rf', RandomForestClassifier(random_state=42)),\n",
       "                             ('svm', SVC(random_state=42))])"
      ]
     },
     "execution_count": 81,
     "metadata": {},
     "output_type": "execute_result"
    }
   ],
   "source": [
    "voting_clf.fit(X_train, y_train)"
   ]
  },
  {
   "cell_type": "code",
   "execution_count": 83,
   "id": "97ae4e3c",
   "metadata": {},
   "outputs": [],
   "source": [
    "from sklearn.metrics import accuracy_score"
   ]
  },
  {
   "cell_type": "code",
   "execution_count": 85,
   "id": "7fbce79d",
   "metadata": {},
   "outputs": [],
   "source": [
    "y_pred = voting_clf.predict(X_test)"
   ]
  },
  {
   "cell_type": "code",
   "execution_count": 84,
   "id": "b745d26d",
   "metadata": {},
   "outputs": [
    {
     "name": "stdout",
     "output_type": "stream",
     "text": [
      "0.8232691882326919\n"
     ]
    }
   ],
   "source": [
    "print(accuracy_score(y_test, y_pred))"
   ]
  },
  {
   "cell_type": "markdown",
   "id": "d146f75a",
   "metadata": {},
   "source": [
    "# Теперь без sklearn, но с gradient descend"
   ]
  },
  {
   "cell_type": "code",
   "execution_count": 9,
   "id": "e7210247",
   "metadata": {},
   "outputs": [
    {
     "data": {
      "text/plain": [
       "array([[1.        , 0.49420096, 0.4058399 , 0.47798327, 0.40434383,\n",
       "        0.4688757 , 0.37851706],\n",
       "       [1.        , 0.69615084, 0.41565515, 0.51076802, 0.3236475 ,\n",
       "        0.3702577 , 0.27075088],\n",
       "       [1.        , 0.54271102, 0.35509291, 0.63919843, 0.38896693,\n",
       "        0.77721417, 0.24813564],\n",
       "       [1.        , 0.46984323, 0.56486137, 0.4427254 , 0.54593954,\n",
       "        0.40184436, 0.53474228],\n",
       "       [1.        , 0.47404582, 0.37338425, 0.50857287, 0.36447717,\n",
       "        0.53926844, 0.30093088],\n",
       "       [1.        , 0.51694104, 0.38381041, 0.50627996, 0.33081172,\n",
       "        0.49539733, 0.3330146 ],\n",
       "       [1.        , 0.58600038, 0.66708661, 0.60036614, 0.63056841,\n",
       "        0.60964803, 0.60029774],\n",
       "       [1.        , 0.68259772, 0.47839484, 0.7174264 , 0.51407907,\n",
       "        0.68721998, 0.50988669],\n",
       "       [1.        , 0.88762598, 0.83852028, 0.79782562, 0.78487627,\n",
       "        0.7458191 , 0.7611492 ],\n",
       "       [1.        , 0.46053148, 0.37462843, 0.56264173, 0.49548425,\n",
       "        0.53819517, 0.32854148]])"
      ]
     },
     "execution_count": 9,
     "metadata": {},
     "output_type": "execute_result"
    }
   ],
   "source": [
    "X_train, X_test, y_train, y_test = train_test_split(X, y, random_state=42)\n",
    "X_train = np.array(X_train)\n",
    "y_train = np.array(y_train)\n",
    "\n",
    "# add bias\n",
    "X_train = np.concatenate((np.ones((len(X_train),1)),X_train),axis=1)\n",
    "\n",
    "# normalize values\n",
    "Xnorm = np.array(X_train).copy()\n",
    "minx = np.min(X_train[:,1:])\n",
    "maxx = np.max(X_train[:,1:])\n",
    "Xnorm[:,1:] = (X_train[:,1:]-minx)/(maxx-minx)\n",
    "Xnorm[:10,:]"
   ]
  },
  {
   "cell_type": "code",
   "execution_count": 10,
   "id": "c617e88c",
   "metadata": {},
   "outputs": [],
   "source": [
    "ynorm = y_train.copy()\n",
    "m = len(ynorm)"
   ]
  },
  {
   "cell_type": "code",
   "execution_count": 11,
   "id": "333e1547",
   "metadata": {},
   "outputs": [],
   "source": [
    "theta0 = np.zeros((X_train.shape[1],1))+0.4"
   ]
  },
  {
   "cell_type": "code",
   "execution_count": null,
   "id": "55511279",
   "metadata": {},
   "outputs": [],
   "source": [
    "a = Xnorm.dot(theta0)-ynorm\n",
    "print(a.shape, Xnorm.shape)\n"
   ]
  },
  {
   "cell_type": "code",
   "execution_count": 17,
   "id": "1ef96e14",
   "metadata": {},
   "outputs": [],
   "source": [
    "# calculate gradient\n",
    "def grad(theta):\n",
    "    dJ = 1/m*np.sum((Xnorm.dot(theta)-ynorm)*Xnorm,axis=0).reshape(-1,1)\n",
    "    return dJ"
   ]
  },
  {
   "cell_type": "code",
   "execution_count": null,
   "id": "33cd18e8",
   "metadata": {},
   "outputs": [],
   "source": [
    "grad(theta0)"
   ]
  },
  {
   "cell_type": "code",
   "execution_count": 16,
   "id": "6b78e99e",
   "metadata": {},
   "outputs": [],
   "source": [
    "def cost(theta):\n",
    "    J = np.sum((Xnorm.dot(theta)-ynorm)**2,axis=0)[0]\n",
    "    return J"
   ]
  },
  {
   "cell_type": "code",
   "execution_count": 17,
   "id": "6b6accc3",
   "metadata": {},
   "outputs": [],
   "source": [
    "def GD(theta0,learning_rate = 0.5,epochs=1000,TOL=1e-7):\n",
    "    \n",
    "    theta_history = [theta0]\n",
    "    J_history = [cost(theta0)]\n",
    "    \n",
    "    thetanew = theta0*10000\n",
    "    print(f'epoch \\t Cost(J) \\t')\n",
    "    for epoch in range(epochs):\n",
    "        if epoch%100 == 0:\n",
    "            print(f'{epoch:5d}\\t{J_history[-1]:7.4f}\\t')\n",
    "        dJ = grad(theta0)\n",
    "        J = cost(theta0)\n",
    "        \n",
    "        thetanew = theta0 - learning_rate*dJ\n",
    "        theta_history.append(thetanew)\n",
    "        J_history.append(J)\n",
    "        \n",
    "        if np.sum((thetanew - theta0)**2) < TOL:\n",
    "            print('Convergence achieved.')\n",
    "            break\n",
    "        theta0 = thetanew\n",
    "\n",
    "    return thetanew,theta_history,J_history"
   ]
  },
  {
   "cell_type": "code",
   "execution_count": null,
   "id": "aadaf970",
   "metadata": {},
   "outputs": [],
   "source": []
  }
 ],
 "metadata": {
  "kernelspec": {
   "display_name": "Python 3 (ipykernel)",
   "language": "python",
   "name": "python3"
  },
  "language_info": {
   "codemirror_mode": {
    "name": "ipython",
    "version": 3
   },
   "file_extension": ".py",
   "mimetype": "text/x-python",
   "name": "python",
   "nbconvert_exporter": "python",
   "pygments_lexer": "ipython3",
   "version": "3.7.10"
  }
 },
 "nbformat": 4,
 "nbformat_minor": 5
}
