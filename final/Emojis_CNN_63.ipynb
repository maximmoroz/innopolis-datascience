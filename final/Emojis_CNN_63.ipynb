{
  "cells": [
    {
      "cell_type": "code",
      "execution_count": 2,
      "metadata": {
        "id": "Ct3NCE3TIzzC"
      },
      "outputs": [],
      "source": [
        "import pandas as pd"
      ]
    },
    {
      "cell_type": "code",
      "execution_count": 4,
      "metadata": {
        "id": "UacYJV3lJHVT"
      },
      "outputs": [],
      "source": [
        "emojis = pd.read_csv(\"/content/drive/MyDrive/emojis.csv\")"
      ]
    },
    {
      "cell_type": "code",
      "execution_count": 5,
      "metadata": {
        "colab": {
          "base_uri": "https://localhost:8080/",
          "height": 424
        },
        "id": "u9LwIzAjJxJ3",
        "outputId": "2e9a5e4e-0efe-4846-ac2a-6bedbecf5a9d"
      },
      "outputs": [
        {
          "output_type": "execute_result",
          "data": {
            "text/html": [
              "<div>\n",
              "<style scoped>\n",
              "    .dataframe tbody tr th:only-of-type {\n",
              "        vertical-align: middle;\n",
              "    }\n",
              "\n",
              "    .dataframe tbody tr th {\n",
              "        vertical-align: top;\n",
              "    }\n",
              "\n",
              "    .dataframe thead th {\n",
              "        text-align: right;\n",
              "    }\n",
              "</style>\n",
              "<table border=\"1\" class=\"dataframe\">\n",
              "  <thead>\n",
              "    <tr style=\"text-align: right;\">\n",
              "      <th></th>\n",
              "      <th>text</th>\n",
              "      <th>emoji</th>\n",
              "    </tr>\n",
              "  </thead>\n",
              "  <tbody>\n",
              "    <tr>\n",
              "      <th>0</th>\n",
              "      <td>@ATLHawks: Chance The Rapper or Kent Bazemore?...</td>\n",
              "      <td>🤔</td>\n",
              "    </tr>\n",
              "    <tr>\n",
              "      <th>1</th>\n",
              "      <td>@nice_aju: Yup we love you, you're so precious...</td>\n",
              "      <td>💙</td>\n",
              "    </tr>\n",
              "    <tr>\n",
              "      <th>2</th>\n",
              "      <td>Fav  Sing Me to Sleep by Alan Walker</td>\n",
              "      <td>💛</td>\n",
              "    </tr>\n",
              "    <tr>\n",
              "      <th>3</th>\n",
              "      <td>@AshBenzo: Wife From The Real-Life 'Fault In O...</td>\n",
              "      <td>💔</td>\n",
              "    </tr>\n",
              "    <tr>\n",
              "      <th>4</th>\n",
              "      <td>Why am I up so late</td>\n",
              "      <td>😔</td>\n",
              "    </tr>\n",
              "    <tr>\n",
              "      <th>...</th>\n",
              "      <td>...</td>\n",
              "      <td>...</td>\n",
              "    </tr>\n",
              "    <tr>\n",
              "      <th>806198</th>\n",
              "      <td>@FunnyPicsDepot: When your mama about to whoop...</td>\n",
              "      <td>😂</td>\n",
              "    </tr>\n",
              "    <tr>\n",
              "      <th>806199</th>\n",
              "      <td>@v2weekx: @AstralWench @A_DVS_NTT You both are...</td>\n",
              "      <td>❤</td>\n",
              "    </tr>\n",
              "    <tr>\n",
              "      <th>806200</th>\n",
              "      <td>@Trekles: Best video on Twitter still</td>\n",
              "      <td>😂</td>\n",
              "    </tr>\n",
              "    <tr>\n",
              "      <th>806201</th>\n",
              "      <td>@isamarbabii07: @Sammiee_x3 Seriously so annoy...</td>\n",
              "      <td>😂</td>\n",
              "    </tr>\n",
              "    <tr>\n",
              "      <th>806202</th>\n",
              "      <td>@belyndakay there is a guy here akundinetsa he...</td>\n",
              "      <td>😂</td>\n",
              "    </tr>\n",
              "  </tbody>\n",
              "</table>\n",
              "<p>806203 rows × 2 columns</p>\n",
              "</div>"
            ],
            "text/plain": [
              "                                                     text emoji\n",
              "0       @ATLHawks: Chance The Rapper or Kent Bazemore?...     🤔\n",
              "1       @nice_aju: Yup we love you, you're so precious...     💙\n",
              "2                    Fav  Sing Me to Sleep by Alan Walker     💛\n",
              "3       @AshBenzo: Wife From The Real-Life 'Fault In O...     💔\n",
              "4                                     Why am I up so late     😔\n",
              "...                                                   ...   ...\n",
              "806198  @FunnyPicsDepot: When your mama about to whoop...     😂\n",
              "806199  @v2weekx: @AstralWench @A_DVS_NTT You both are...     ❤\n",
              "806200              @Trekles: Best video on Twitter still     😂\n",
              "806201  @isamarbabii07: @Sammiee_x3 Seriously so annoy...     😂\n",
              "806202  @belyndakay there is a guy here akundinetsa he...     😂\n",
              "\n",
              "[806203 rows x 2 columns]"
            ]
          },
          "metadata": {},
          "execution_count": 5
        }
      ],
      "source": [
        "emojis"
      ]
    },
    {
      "cell_type": "code",
      "execution_count": 6,
      "metadata": {
        "id": "LcG6MyVAJ9Su"
      },
      "outputs": [],
      "source": [
        "TOTAL_COUNT = emojis['emoji'].count()"
      ]
    },
    {
      "cell_type": "code",
      "source": [
        "emojis['emoji'].value_counts()[:10]"
      ],
      "metadata": {
        "colab": {
          "base_uri": "https://localhost:8080/"
        },
        "id": "PUhkxtdXAyDl",
        "outputId": "e6e0a2ae-ad04-4ffe-fc33-ade40600ee6e"
      },
      "execution_count": 86,
      "outputs": [
        {
          "output_type": "execute_result",
          "data": {
            "text/plain": [
              "😂    124823\n",
              "❤     43218\n",
              "😍     40566\n",
              "😭     35714\n",
              "😊     20076\n",
              "🙄     17963\n",
              "😩     16232\n",
              "🔥     15453\n",
              "🤔     15419\n",
              "💕     12026\n",
              "Name: emoji, dtype: int64"
            ]
          },
          "metadata": {},
          "execution_count": 86
        }
      ]
    },
    {
      "cell_type": "code",
      "source": [
        "TOP_FRACTION = 0.75"
      ],
      "metadata": {
        "id": "3wLFhQIyCPhh"
      },
      "execution_count": 11,
      "outputs": []
    },
    {
      "cell_type": "code",
      "source": [
        "count = 0\n",
        "top_emojis = set()\n",
        "for index, value in emojis['emoji'].value_counts().iteritems():\n",
        "  if count < TOP_FRACTION * TOTAL_COUNT:\n",
        "    count += value\n",
        "    top_emojis.add(index)"
      ],
      "metadata": {
        "id": "hUkueneaBU3K"
      },
      "execution_count": 12,
      "outputs": []
    },
    {
      "cell_type": "code",
      "source": [
        "len(top_emojis)"
      ],
      "metadata": {
        "colab": {
          "base_uri": "https://localhost:8080/"
        },
        "id": "jSasXyWqCHi9",
        "outputId": "3123a2a4-0061-45a1-9f04-acf7d1db37a5"
      },
      "execution_count": 13,
      "outputs": [
        {
          "output_type": "execute_result",
          "data": {
            "text/plain": [
              "63"
            ]
          },
          "metadata": {},
          "execution_count": 13
        }
      ]
    },
    {
      "cell_type": "code",
      "source": [
        "filtered_emojis = emojis[emojis['emoji'].isin(top_emojis)]"
      ],
      "metadata": {
        "id": "ngDsdjoTCdhv"
      },
      "execution_count": 14,
      "outputs": []
    },
    {
      "cell_type": "code",
      "source": [
        "len(emojis), len(filtered_emojis)"
      ],
      "metadata": {
        "colab": {
          "base_uri": "https://localhost:8080/"
        },
        "id": "Fv3wAvz5C5dK",
        "outputId": "7b4eabe4-7a97-467d-91ab-b11701609ac2"
      },
      "execution_count": 15,
      "outputs": [
        {
          "output_type": "execute_result",
          "data": {
            "text/plain": [
              "(806203, 605230)"
            ]
          },
          "metadata": {},
          "execution_count": 15
        }
      ]
    },
    {
      "cell_type": "code",
      "execution_count": 16,
      "metadata": {
        "id": "MSDgJYE0KASC"
      },
      "outputs": [],
      "source": [
        "from tensorflow import keras\n",
        "from keras.preprocessing.text import Tokenizer\n",
        "from tensorflow.keras.utils import to_categorical\n",
        "from keras.preprocessing.sequence import pad_sequences\n",
        "from keras.layers import Activation, Conv2D, Input, Embedding, Reshape, MaxPool2D, Concatenate, Flatten, Dropout, Dense, Conv1D\n",
        "from keras.layers import MaxPool1D\n",
        "from keras.models import Model\n",
        "from keras.callbacks import ModelCheckpoint\n",
        "from tensorflow.keras.optimizers import Adam"
      ]
    },
    {
      "cell_type": "code",
      "execution_count": 17,
      "metadata": {
        "id": "odiOseiyKEmo"
      },
      "outputs": [],
      "source": [
        "# make the max word length to be constant\n",
        "MAX_WORDS = 5000\n",
        "MAX_SEQUENCE_LENGTH = 100\n",
        "# the percentage of train test split to be applied\n",
        "VALIDATION_SPLIT = 0.20\n",
        "# the dimension of vectors to be used\n",
        "EMBEDDING_DIM = 100\n",
        "EMOJIS_COUNT = len(top_emojis)\n",
        "# filter sizes of the different conv layers \n",
        "filter_sizes = [3,4,5]\n",
        "num_filters = 512\n",
        "embedding_dim = 100\n",
        "# dropout probability\n",
        "drop = 0.2\n",
        "batch_size = 30\n",
        "epochs = 3"
      ]
    },
    {
      "cell_type": "code",
      "execution_count": 18,
      "metadata": {
        "colab": {
          "base_uri": "https://localhost:8080/"
        },
        "id": "22Jh5bZmKUCa",
        "outputId": "782046c2-357c-4f4d-b8b1-a3c4c3a995e6"
      },
      "outputs": [
        {
          "output_type": "execute_result",
          "data": {
            "text/plain": [
              "63"
            ]
          },
          "metadata": {},
          "execution_count": 18
        }
      ],
      "source": [
        "EMOJIS_COUNT"
      ]
    },
    {
      "cell_type": "markdown",
      "source": [
        "# Данные несбалансированы - проведем балансировку датасета "
      ],
      "metadata": {
        "id": "kUOeDZrILHyM"
      }
    },
    {
      "cell_type": "code",
      "source": [
        "from imblearn.under_sampling import RandomUnderSampler\n",
        "\n",
        "random_under_sampler = RandomUnderSampler(random_state=42)\n",
        "X_us, y_us = random_under_sampler.fit_resample(filtered_emojis[['text']], filtered_emojis['emoji'])\n",
        "\n",
        "print('Dataset Size:', len(X_us))"
      ],
      "metadata": {
        "colab": {
          "base_uri": "https://localhost:8080/"
        },
        "id": "q4OEvRqCLGyc",
        "outputId": "9e61054e-24a7-41a6-9ccf-ab2a886a0ed8"
      },
      "execution_count": 22,
      "outputs": [
        {
          "output_type": "stream",
          "name": "stdout",
          "text": [
            "Dataset Size: 175392\n"
          ]
        }
      ]
    },
    {
      "cell_type": "code",
      "source": [
        "for emoji in y_us[:3]:\n",
        "  print(emoji)"
      ],
      "metadata": {
        "colab": {
          "base_uri": "https://localhost:8080/"
        },
        "id": "MbNs4iN1OzSB",
        "outputId": "8a35d0b1-c91d-4c3e-f447-3bb82dd81327"
      },
      "execution_count": 28,
      "outputs": [
        {
          "output_type": "stream",
          "name": "stdout",
          "text": [
            "©\n",
            "©\n",
            "©\n"
          ]
        }
      ]
    },
    {
      "cell_type": "markdown",
      "source": [
        ""
      ],
      "metadata": {
        "id": "1QPjaobJL3Jj"
      }
    },
    {
      "cell_type": "code",
      "execution_count": 25,
      "metadata": {
        "colab": {
          "base_uri": "https://localhost:8080/"
        },
        "id": "14FILYU9KuY3",
        "outputId": "7aa42ff1-0c2a-45ed-bcee-3ba5e9e304a1"
      },
      "outputs": [
        {
          "output_type": "execute_result",
          "data": {
            "text/plain": [
              "0         None\n",
              "1         None\n",
              "2         None\n",
              "3         None\n",
              "4         None\n",
              "          ... \n",
              "175387    None\n",
              "175388    None\n",
              "175389    None\n",
              "175390    None\n",
              "175391    None\n",
              "Name: text, Length: 175392, dtype: object"
            ]
          },
          "metadata": {},
          "execution_count": 25
        }
      ],
      "source": [
        "texts = []\n",
        "X_us['text'].apply(lambda t: texts.append(t))"
      ]
    },
    {
      "cell_type": "code",
      "execution_count": 29,
      "metadata": {
        "id": "d-abOEAjKU8V"
      },
      "outputs": [],
      "source": [
        "labels_index = {}  # dictionary mapping label name to numeric id\n",
        "labels = []  # list of label ids\n",
        "\n",
        "for emoji in y_us:\n",
        "    if emoji in labels_index:\n",
        "        label_id = labels_index[emoji]\n",
        "    else:\n",
        "        label_id = len(labels_index)\n",
        "        labels_index[emoji] = label_id\n",
        "    labels.append(label_id)"
      ]
    },
    {
      "cell_type": "code",
      "execution_count": 30,
      "metadata": {
        "colab": {
          "base_uri": "https://localhost:8080/"
        },
        "id": "Xsrz_vqQKbVH",
        "outputId": "53fd9627-5b6c-4deb-b503-9b06399d6c6b"
      },
      "outputs": [
        {
          "output_type": "stream",
          "name": "stdout",
          "text": [
            "unique words : 154645\n"
          ]
        }
      ],
      "source": [
        "tokenizer  = Tokenizer(num_words = MAX_WORDS)\n",
        "tokenizer.fit_on_texts(texts)\n",
        "sequences =  tokenizer.texts_to_sequences(texts)\n",
        "\n",
        "word_index = tokenizer.word_index\n",
        "print(\"unique words : {}\".format(len(word_index)))\n",
        "\n",
        "data = pad_sequences(sequences, maxlen=MAX_SEQUENCE_LENGTH)"
      ]
    },
    {
      "cell_type": "code",
      "execution_count": 31,
      "metadata": {
        "id": "2qS-ZWMALNtA"
      },
      "outputs": [],
      "source": [
        "import numpy as np"
      ]
    },
    {
      "cell_type": "code",
      "execution_count": 32,
      "metadata": {
        "colab": {
          "base_uri": "https://localhost:8080/"
        },
        "id": "96GbbW3WKkRl",
        "outputId": "b15ebd3d-dd4b-4c80-9320-196d6f78ae1e"
      },
      "outputs": [
        {
          "output_type": "stream",
          "name": "stdout",
          "text": [
            "Shape of data tensor: (175392, 100)\n",
            "Shape of label tensor: (175392, 63)\n"
          ]
        }
      ],
      "source": [
        "labels = to_categorical(np.asarray(labels))\n",
        "print('Shape of data tensor:', data.shape)\n",
        "print('Shape of label tensor:', labels.shape)"
      ]
    },
    {
      "cell_type": "code",
      "execution_count": 33,
      "metadata": {
        "id": "Bj1dtYbeLLZc"
      },
      "outputs": [],
      "source": [
        "# split the data into a training set and a validation set\n",
        "indices = np.arange(data.shape[0])\n",
        "np.random.shuffle(indices)\n",
        "data = data[indices]\n",
        "labels = labels[indices]\n",
        "nb_validation_samples = int(VALIDATION_SPLIT * data.shape[0])\n",
        "\n",
        "x_train = data[:-nb_validation_samples]\n",
        "y_train = labels[:-nb_validation_samples]\n",
        "x_val = data[-nb_validation_samples:]\n",
        "y_val = labels[-nb_validation_samples:]"
      ]
    },
    {
      "cell_type": "code",
      "execution_count": null,
      "metadata": {
        "id": "gYp_v1ZWLTj4"
      },
      "outputs": [],
      "source": [
        "# !wget https://nlp.stanford.edu/data/glove.twitter.27B.zip"
      ]
    },
    {
      "cell_type": "code",
      "execution_count": null,
      "metadata": {
        "id": "OUYTcpGMLZ8S"
      },
      "outputs": [],
      "source": [
        "# !unzip glove.twitter.27B.zip"
      ]
    },
    {
      "cell_type": "code",
      "execution_count": null,
      "metadata": {
        "id": "CQUQ6VvImrvz"
      },
      "outputs": [],
      "source": [
        "# !cp glove.twitter.27B.100d.txt /content/drive/MyDrive/"
      ]
    },
    {
      "cell_type": "code",
      "execution_count": 34,
      "metadata": {
        "id": "GTWHSYKTLg6t",
        "colab": {
          "base_uri": "https://localhost:8080/"
        },
        "outputId": "18f36d3c-bd1a-4db0-9410-9517084ab489"
      },
      "outputs": [
        {
          "output_type": "stream",
          "name": "stdout",
          "text": [
            "Found 1193514 word vectors.\n"
          ]
        }
      ],
      "source": [
        "embeddings_index = {}\n",
        "with open('/content/drive/MyDrive/glove.twitter.27B.100d.txt') as f:\n",
        "    for line in f:\n",
        "        values = line.split()\n",
        "        word = values[0]\n",
        "        coefs = np.asarray(values[1:], dtype='float32')\n",
        "        embeddings_index[word] = coefs\n",
        "\n",
        "print('Found %s word vectors.' % len(embeddings_index))"
      ]
    },
    {
      "cell_type": "code",
      "execution_count": 35,
      "metadata": {
        "id": "roM99XVALoT5"
      },
      "outputs": [],
      "source": [
        "embedding_matrix = np.zeros((len(word_index) + 1, EMBEDDING_DIM))\n",
        "for word, i in word_index.items():\n",
        "    embedding_vector = embeddings_index.get(word)\n",
        "    if embedding_vector is not None:\n",
        "        # words not found in embedding index will be all-zeros.\n",
        "        embedding_matrix[i] = embedding_vector"
      ]
    },
    {
      "cell_type": "code",
      "execution_count": 36,
      "metadata": {
        "id": "1wZs1VwLM42j",
        "colab": {
          "base_uri": "https://localhost:8080/"
        },
        "outputId": "6cf0b66b-f2c2-4f90-98c1-88da88a4e9bd"
      },
      "outputs": [
        {
          "output_type": "execute_result",
          "data": {
            "text/plain": [
              "(154646, 100)"
            ]
          },
          "metadata": {},
          "execution_count": 36
        }
      ],
      "source": [
        "embedding_matrix.shape"
      ]
    },
    {
      "cell_type": "code",
      "execution_count": 37,
      "metadata": {
        "id": "B1tF0xrdM6ki"
      },
      "outputs": [],
      "source": [
        "from keras.layers import Embedding\n",
        "\n",
        "embedding_layer = Embedding(len(word_index) + 1,\n",
        "                            EMBEDDING_DIM,\n",
        "                            weights=[embedding_matrix],\n",
        "                            input_length=MAX_SEQUENCE_LENGTH,\n",
        "                            trainable=False)"
      ]
    },
    {
      "cell_type": "code",
      "execution_count": 38,
      "metadata": {
        "id": "VKNG2ojoM9DK",
        "colab": {
          "base_uri": "https://localhost:8080/"
        },
        "outputId": "c8bc5510-df7c-4caf-f794-2683745ead50"
      },
      "outputs": [
        {
          "output_type": "stream",
          "name": "stdout",
          "text": [
            "(None, 100, 100)\n",
            "(None, 100, 100, 1)\n",
            "Model: \"model\"\n",
            "__________________________________________________________________________________________________\n",
            " Layer (type)                   Output Shape         Param #     Connected to                     \n",
            "==================================================================================================\n",
            " input_1 (InputLayer)           [(None, 100)]        0           []                               \n",
            "                                                                                                  \n",
            " embedding (Embedding)          (None, 100, 100)     15464600    ['input_1[0][0]']                \n",
            "                                                                                                  \n",
            " reshape (Reshape)              (None, 100, 100, 1)  0           ['embedding[0][0]']              \n",
            "                                                                                                  \n",
            " conv2d (Conv2D)                (None, 98, 1, 512)   154112      ['reshape[0][0]']                \n",
            "                                                                                                  \n",
            " conv2d_1 (Conv2D)              (None, 97, 1, 512)   205312      ['reshape[0][0]']                \n",
            "                                                                                                  \n",
            " conv2d_2 (Conv2D)              (None, 96, 1, 512)   256512      ['reshape[0][0]']                \n",
            "                                                                                                  \n",
            " max_pooling2d (MaxPooling2D)   (None, 1, 1, 512)    0           ['conv2d[0][0]']                 \n",
            "                                                                                                  \n",
            " max_pooling2d_1 (MaxPooling2D)  (None, 1, 1, 512)   0           ['conv2d_1[0][0]']               \n",
            "                                                                                                  \n",
            " max_pooling2d_2 (MaxPooling2D)  (None, 1, 1, 512)   0           ['conv2d_2[0][0]']               \n",
            "                                                                                                  \n",
            " concatenate (Concatenate)      (None, 3, 1, 512)    0           ['max_pooling2d[0][0]',          \n",
            "                                                                  'max_pooling2d_1[0][0]',        \n",
            "                                                                  'max_pooling2d_2[0][0]']        \n",
            "                                                                                                  \n",
            " flatten (Flatten)              (None, 1536)         0           ['concatenate[0][0]']            \n",
            "                                                                                                  \n",
            " dropout (Dropout)              (None, 1536)         0           ['flatten[0][0]']                \n",
            "                                                                                                  \n",
            " dense (Dense)                  (None, 63)           96831       ['dropout[0][0]']                \n",
            "                                                                                                  \n",
            "==================================================================================================\n",
            "Total params: 16,177,367\n",
            "Trainable params: 712,767\n",
            "Non-trainable params: 15,464,600\n",
            "__________________________________________________________________________________________________\n"
          ]
        }
      ],
      "source": [
        "inputs = Input(shape=(MAX_SEQUENCE_LENGTH,), dtype='int32')\n",
        "embedding = embedding_layer(inputs)\n",
        "\n",
        "print(embedding.shape)\n",
        "reshape = Reshape((MAX_SEQUENCE_LENGTH, EMBEDDING_DIM, 1))(embedding)\n",
        "print(reshape.shape)\n",
        "\n",
        "conv_0 = Conv2D(num_filters, kernel_size=(filter_sizes[0], embedding_dim), padding='valid', kernel_initializer='normal', activation='relu')(reshape)\n",
        "conv_1 = Conv2D(num_filters, kernel_size=(filter_sizes[1], embedding_dim), padding='valid', kernel_initializer='normal', activation='relu')(reshape)\n",
        "conv_2 = Conv2D(num_filters, kernel_size=(filter_sizes[2], embedding_dim), padding='valid', kernel_initializer='normal', activation='relu')(reshape)\n",
        "\n",
        "maxpool_0 = MaxPool2D(pool_size=(MAX_SEQUENCE_LENGTH - filter_sizes[0] + 1, 1), strides=(1,1), padding='valid')(conv_0)\n",
        "maxpool_1 = MaxPool2D(pool_size=(MAX_SEQUENCE_LENGTH - filter_sizes[1] + 1, 1), strides=(1,1), padding='valid')(conv_1)\n",
        "maxpool_2 = MaxPool2D(pool_size=(MAX_SEQUENCE_LENGTH - filter_sizes[2] + 1, 1), strides=(1,1), padding='valid')(conv_2)\n",
        "\n",
        "concatenated_tensor = Concatenate(axis=1)([maxpool_0, maxpool_1, maxpool_2])\n",
        "flatten = Flatten()(concatenated_tensor)\n",
        "dropout = Dropout(drop)(flatten)\n",
        "output = Dense(units=EMOJIS_COUNT, activation='softmax')(dropout)\n",
        "\n",
        "# this creates a model that includes\n",
        "model = Model(inputs=inputs, outputs=output)\n",
        "\n",
        "checkpoint = ModelCheckpoint('weights_cnn_sentece.hdf5', monitor='val_accuracy', verbose=1, save_best_only=True, mode='auto')\n",
        "adam = Adam(learning_rate=1e-4, beta_1=0.9, beta_2=0.999, epsilon=1e-08, decay=0.0)\n",
        "\n",
        "model.compile(optimizer=adam, loss='categorical_crossentropy', metrics=['accuracy'])\n",
        "model.summary()"
      ]
    },
    {
      "cell_type": "code",
      "execution_count": 85,
      "metadata": {
        "id": "QS04qY9rND4n",
        "colab": {
          "base_uri": "https://localhost:8080/"
        },
        "outputId": "c54332a3-1d2b-42db-f726-fabf165a9fb6"
      },
      "outputs": [
        {
          "output_type": "stream",
          "name": "stdout",
          "text": [
            "Traning Model...\n",
            "Epoch 1/10\n",
            "4677/4678 [============================>.] - ETA: 0s - loss: 2.3234 - accuracy: 0.4089WARNING:tensorflow:Can save best model only with val_acc available, skipping.\n",
            "4678/4678 [==============================] - 152s 32ms/step - loss: 2.3235 - accuracy: 0.4089 - val_loss: 3.1190 - val_accuracy: 0.2620\n",
            "Epoch 2/10\n",
            "4677/4678 [============================>.] - ETA: 0s - loss: 2.2832 - accuracy: 0.4191WARNING:tensorflow:Can save best model only with val_acc available, skipping.\n",
            "4678/4678 [==============================] - 151s 32ms/step - loss: 2.2832 - accuracy: 0.4191 - val_loss: 3.1250 - val_accuracy: 0.2628\n",
            "Epoch 3/10\n",
            "4677/4678 [============================>.] - ETA: 0s - loss: 2.2430 - accuracy: 0.4280WARNING:tensorflow:Can save best model only with val_acc available, skipping.\n",
            "4678/4678 [==============================] - 150s 32ms/step - loss: 2.2431 - accuracy: 0.4280 - val_loss: 3.1374 - val_accuracy: 0.2636\n",
            "Epoch 4/10\n",
            "4677/4678 [============================>.] - ETA: 0s - loss: 2.2057 - accuracy: 0.4358WARNING:tensorflow:Can save best model only with val_acc available, skipping.\n",
            "4678/4678 [==============================] - 150s 32ms/step - loss: 2.2057 - accuracy: 0.4358 - val_loss: 3.1350 - val_accuracy: 0.2650\n",
            "Epoch 5/10\n",
            "4677/4678 [============================>.] - ETA: 0s - loss: 2.1708 - accuracy: 0.4427WARNING:tensorflow:Can save best model only with val_acc available, skipping.\n",
            "4678/4678 [==============================] - 150s 32ms/step - loss: 2.1708 - accuracy: 0.4427 - val_loss: 3.1479 - val_accuracy: 0.2661\n",
            "Epoch 6/10\n",
            "4677/4678 [============================>.] - ETA: 0s - loss: 2.1365 - accuracy: 0.4517WARNING:tensorflow:Can save best model only with val_acc available, skipping.\n",
            "4678/4678 [==============================] - 151s 32ms/step - loss: 2.1365 - accuracy: 0.4517 - val_loss: 3.1658 - val_accuracy: 0.2661\n",
            "Epoch 7/10\n",
            "4677/4678 [============================>.] - ETA: 0s - loss: 2.1015 - accuracy: 0.4588WARNING:tensorflow:Can save best model only with val_acc available, skipping.\n",
            "4678/4678 [==============================] - 151s 32ms/step - loss: 2.1015 - accuracy: 0.4588 - val_loss: 3.1712 - val_accuracy: 0.2677\n",
            "Epoch 8/10\n",
            "4677/4678 [============================>.] - ETA: 0s - loss: 2.0731 - accuracy: 0.4648WARNING:tensorflow:Can save best model only with val_acc available, skipping.\n",
            "4678/4678 [==============================] - 152s 32ms/step - loss: 2.0731 - accuracy: 0.4648 - val_loss: 3.1894 - val_accuracy: 0.2659\n",
            "Epoch 9/10\n",
            "4677/4678 [============================>.] - ETA: 0s - loss: 2.0397 - accuracy: 0.4717WARNING:tensorflow:Can save best model only with val_acc available, skipping.\n",
            "4678/4678 [==============================] - 152s 32ms/step - loss: 2.0397 - accuracy: 0.4717 - val_loss: 3.1966 - val_accuracy: 0.2689\n",
            "Epoch 10/10\n",
            "4677/4678 [============================>.] - ETA: 0s - loss: 2.0138 - accuracy: 0.4777WARNING:tensorflow:Can save best model only with val_acc available, skipping.\n",
            "4678/4678 [==============================] - 152s 32ms/step - loss: 2.0139 - accuracy: 0.4777 - val_loss: 3.2078 - val_accuracy: 0.2671\n"
          ]
        }
      ],
      "source": [
        "print(\"Traning Model...\")\n",
        "history = model.fit(x_train, y_train, batch_size=batch_size, epochs=10, verbose=1, callbacks=[checkpoint], validation_data=(x_val, y_val))"
      ]
    },
    {
      "cell_type": "code",
      "source": [
        "print(history.history.keys())\n"
      ],
      "metadata": {
        "colab": {
          "base_uri": "https://localhost:8080/"
        },
        "id": "IXpJoGrxR7gw",
        "outputId": "a930a0c1-159d-4b2b-b217-cd4b2336b614"
      },
      "execution_count": 42,
      "outputs": [
        {
          "output_type": "stream",
          "name": "stdout",
          "text": [
            "dict_keys(['loss', 'accuracy', 'val_loss', 'val_accuracy'])\n"
          ]
        }
      ]
    },
    {
      "cell_type": "code",
      "source": [
        "import matplotlib.pyplot as plt\n",
        "\n",
        "# summarize history for accuracy\n",
        "plt.plot(history.history['accuracy'])\n",
        "plt.plot(history.history['val_accuracy'])\n",
        "plt.title('model accuracy')\n",
        "plt.ylabel('accuracy')\n",
        "plt.xlabel('epoch')\n",
        "plt.legend(['train', 'test'], loc='upper left')\n",
        "plt.show()"
      ],
      "metadata": {
        "colab": {
          "base_uri": "https://localhost:8080/",
          "height": 295
        },
        "id": "3JsyXYtjeZKp",
        "outputId": "ad641175-cf2e-4928-f19d-fbbb7ca9ed2a"
      },
      "execution_count": 84,
      "outputs": [
        {
          "output_type": "display_data",
          "data": {
            "image/png": "[encoded data removed]",
            "text/plain": [
              "<Figure size 432x288 with 1 Axes>"
            ]
          },
          "metadata": {
            "needs_background": "light"
          }
        }
      ]
    },
    {
      "cell_type": "code",
      "execution_count": 81,
      "metadata": {
        "id": "JYwVPdIGNNiP"
      },
      "outputs": [],
      "source": [
        "sequences =  tokenizer.texts_to_sequences([\"hate you so much\"])\n",
        "query = pad_sequences(sequences, maxlen=MAX_SEQUENCE_LENGTH)\n",
        "output = model.predict(query)\n",
        "label_id = np.argmax(output)"
      ]
    },
    {
      "cell_type": "code",
      "execution_count": 82,
      "metadata": {
        "id": "MKNQpM-aTXrL",
        "colab": {
          "base_uri": "https://localhost:8080/"
        },
        "outputId": "91d7d877-1b9f-4a52-9625-ccaaa8795f07"
      },
      "outputs": [
        {
          "output_type": "stream",
          "name": "stdout",
          "text": [
            "💔\n"
          ]
        }
      ],
      "source": [
        "for e, v in labels_index.items():\n",
        "  if v == label_id:\n",
        "    print(e)"
      ]
    },
    {
      "cell_type": "code",
      "execution_count": 83,
      "metadata": {
        "id": "EVsNh4M1ThhM",
        "colab": {
          "base_uri": "https://localhost:8080/"
        },
        "outputId": "6a618b9e-6893-4dc2-b32b-fa3b23ecbf48"
      },
      "outputs": [
        {
          "output_type": "stream",
          "name": "stdout",
          "text": [
            "INFO:tensorflow:Assets written to: kaggle_model_63/assets\n"
          ]
        }
      ],
      "source": [
        "model.save(\"kaggle_model_63\")"
      ]
    },
    {
      "cell_type": "code",
      "execution_count": null,
      "metadata": {
        "id": "vhLd8JC9UYoj"
      },
      "outputs": [],
      "source": [
        ""
      ]
    }
  ],
  "metadata": {
    "accelerator": "GPU",
    "colab": {
      "collapsed_sections": [],
      "name": "Emojis-CNN-50.ipynb",
      "provenance": []
    },
    "kernelspec": {
      "display_name": "Python 3",
      "name": "python3"
    },
    "language_info": {
      "name": "python"
    }
  },
  "nbformat": 4,
  "nbformat_minor": 0
}