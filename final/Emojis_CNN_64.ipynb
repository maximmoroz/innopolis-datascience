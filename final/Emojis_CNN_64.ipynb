{
  "cells": [
    {
      "cell_type": "code",
      "execution_count": 1,
      "metadata": {
        "id": "Ct3NCE3TIzzC"
      },
      "outputs": [],
      "source": [
        "import pandas as pd"
      ]
    },
    {
      "cell_type": "code",
      "execution_count": 2,
      "metadata": {
        "id": "UacYJV3lJHVT"
      },
      "outputs": [],
      "source": [
        "emojis = pd.read_csv(\"/content/drive/MyDrive/emojis.csv\")"
      ]
    },
    {
      "cell_type": "code",
      "execution_count": 3,
      "metadata": {
        "colab": {
          "base_uri": "https://localhost:8080/",
          "height": 424
        },
        "id": "u9LwIzAjJxJ3",
        "outputId": "7775f686-8f05-4c91-c2a5-6c965359d7a0"
      },
      "outputs": [
        {
          "output_type": "execute_result",
          "data": {
            "text/html": [
              "<div>\n",
              "<style scoped>\n",
              "    .dataframe tbody tr th:only-of-type {\n",
              "        vertical-align: middle;\n",
              "    }\n",
              "\n",
              "    .dataframe tbody tr th {\n",
              "        vertical-align: top;\n",
              "    }\n",
              "\n",
              "    .dataframe thead th {\n",
              "        text-align: right;\n",
              "    }\n",
              "</style>\n",
              "<table border=\"1\" class=\"dataframe\">\n",
              "  <thead>\n",
              "    <tr style=\"text-align: right;\">\n",
              "      <th></th>\n",
              "      <th>text</th>\n",
              "      <th>emoji</th>\n",
              "    </tr>\n",
              "  </thead>\n",
              "  <tbody>\n",
              "    <tr>\n",
              "      <th>0</th>\n",
              "      <td>@ATLHawks: Chance The Rapper or Kent Bazemore?...</td>\n",
              "      <td>🤔</td>\n",
              "    </tr>\n",
              "    <tr>\n",
              "      <th>1</th>\n",
              "      <td>@nice_aju: Yup we love you, you're so precious...</td>\n",
              "      <td>💙</td>\n",
              "    </tr>\n",
              "    <tr>\n",
              "      <th>2</th>\n",
              "      <td>Fav  Sing Me to Sleep by Alan Walker</td>\n",
              "      <td>💛</td>\n",
              "    </tr>\n",
              "    <tr>\n",
              "      <th>3</th>\n",
              "      <td>@AshBenzo: Wife From The Real-Life 'Fault In O...</td>\n",
              "      <td>💔</td>\n",
              "    </tr>\n",
              "    <tr>\n",
              "      <th>4</th>\n",
              "      <td>Why am I up so late</td>\n",
              "      <td>😔</td>\n",
              "    </tr>\n",
              "    <tr>\n",
              "      <th>...</th>\n",
              "      <td>...</td>\n",
              "      <td>...</td>\n",
              "    </tr>\n",
              "    <tr>\n",
              "      <th>806198</th>\n",
              "      <td>@FunnyPicsDepot: When your mama about to whoop...</td>\n",
              "      <td>😂</td>\n",
              "    </tr>\n",
              "    <tr>\n",
              "      <th>806199</th>\n",
              "      <td>@v2weekx: @AstralWench @A_DVS_NTT You both are...</td>\n",
              "      <td>❤</td>\n",
              "    </tr>\n",
              "    <tr>\n",
              "      <th>806200</th>\n",
              "      <td>@Trekles: Best video on Twitter still</td>\n",
              "      <td>😂</td>\n",
              "    </tr>\n",
              "    <tr>\n",
              "      <th>806201</th>\n",
              "      <td>@isamarbabii07: @Sammiee_x3 Seriously so annoy...</td>\n",
              "      <td>😂</td>\n",
              "    </tr>\n",
              "    <tr>\n",
              "      <th>806202</th>\n",
              "      <td>@belyndakay there is a guy here akundinetsa he...</td>\n",
              "      <td>😂</td>\n",
              "    </tr>\n",
              "  </tbody>\n",
              "</table>\n",
              "<p>806203 rows × 2 columns</p>\n",
              "</div>"
            ],
            "text/plain": [
              "                                                     text emoji\n",
              "0       @ATLHawks: Chance The Rapper or Kent Bazemore?...     🤔\n",
              "1       @nice_aju: Yup we love you, you're so precious...     💙\n",
              "2                    Fav  Sing Me to Sleep by Alan Walker     💛\n",
              "3       @AshBenzo: Wife From The Real-Life 'Fault In O...     💔\n",
              "4                                     Why am I up so late     😔\n",
              "...                                                   ...   ...\n",
              "806198  @FunnyPicsDepot: When your mama about to whoop...     😂\n",
              "806199  @v2weekx: @AstralWench @A_DVS_NTT You both are...     ❤\n",
              "806200              @Trekles: Best video on Twitter still     😂\n",
              "806201  @isamarbabii07: @Sammiee_x3 Seriously so annoy...     😂\n",
              "806202  @belyndakay there is a guy here akundinetsa he...     😂\n",
              "\n",
              "[806203 rows x 2 columns]"
            ]
          },
          "metadata": {},
          "execution_count": 3
        }
      ],
      "source": [
        "emojis"
      ]
    },
    {
      "cell_type": "code",
      "execution_count": 4,
      "metadata": {
        "id": "LcG6MyVAJ9Su"
      },
      "outputs": [],
      "source": [
        "TOTAL_COUNT = emojis['emoji'].count()"
      ]
    },
    {
      "cell_type": "code",
      "execution_count": 5,
      "metadata": {
        "colab": {
          "base_uri": "https://localhost:8080/"
        },
        "id": "PUhkxtdXAyDl",
        "outputId": "01685107-0ca3-49f6-82fa-ab7b2dddd309"
      },
      "outputs": [
        {
          "output_type": "execute_result",
          "data": {
            "text/plain": [
              "😂    124823\n",
              "❤     43218\n",
              "😍     40566\n",
              "😭     35714\n",
              "😊     20076\n",
              "🙄     17963\n",
              "😩     16232\n",
              "🔥     15453\n",
              "🤔     15419\n",
              "💕     12026\n",
              "Name: emoji, dtype: int64"
            ]
          },
          "metadata": {},
          "execution_count": 5
        }
      ],
      "source": [
        "emojis['emoji'].value_counts()[:10]"
      ]
    },
    {
      "cell_type": "code",
      "execution_count": 6,
      "metadata": {
        "colab": {
          "base_uri": "https://localhost:8080/"
        },
        "id": "hncyZspBBZKh",
        "outputId": "8363760d-4c3c-47c9-8e3b-e547f604ceab"
      },
      "outputs": [
        {
          "output_type": "stream",
          "name": "stdout",
          "text": [
            "[nltk_data] Downloading package stopwords to /root/nltk_data...\n",
            "[nltk_data]   Unzipping corpora/stopwords.zip.\n"
          ]
        }
      ],
      "source": [
        "import nltk\n",
        "from nltk.corpus import stopwords\n",
        "import string\n",
        "\n",
        "nltk.download('stopwords')\n",
        "punctuation = [string.punctuation]\n",
        "stop_words = stopwords.words('english') + punctuation + ['rt','via']"
      ]
    },
    {
      "cell_type": "code",
      "execution_count": 7,
      "metadata": {
        "id": "LmkF78haBlwD"
      },
      "outputs": [],
      "source": [
        "def preprocess(text, stop_words):\n",
        "  word_stop = [word for word in text.split() \n",
        "            if not word.startswith(\n",
        "    ('u0','http','@','#','\\\\','/','*','-','{','}','[',']','(',')',\n",
        "     '+','x',':',\"''\",'i\\\\','.','?','!',\"'\",'\"',',',';',':','&',''\n",
        "     'u2','ua','ub','uc','ud')) and\n",
        "                    not word.isdigit()]\n",
        "  return \" \".join(word_stop)"
      ]
    },
    {
      "cell_type": "code",
      "execution_count": 8,
      "metadata": {
        "id": "onE-oZ4mCk1O"
      },
      "outputs": [],
      "source": [
        "emojis['text'] = emojis['text'].apply(lambda t: preprocess(t, stop_words))"
      ]
    },
    {
      "cell_type": "code",
      "execution_count": 9,
      "metadata": {
        "colab": {
          "base_uri": "https://localhost:8080/",
          "height": 424
        },
        "id": "qIn03W8dEpsK",
        "outputId": "76cb4d17-6bf3-4535-fb25-4cceabfceb8f"
      },
      "outputs": [
        {
          "output_type": "execute_result",
          "data": {
            "text/html": [
              "<div>\n",
              "<style scoped>\n",
              "    .dataframe tbody tr th:only-of-type {\n",
              "        vertical-align: middle;\n",
              "    }\n",
              "\n",
              "    .dataframe tbody tr th {\n",
              "        vertical-align: top;\n",
              "    }\n",
              "\n",
              "    .dataframe thead th {\n",
              "        text-align: right;\n",
              "    }\n",
              "</style>\n",
              "<table border=\"1\" class=\"dataframe\">\n",
              "  <thead>\n",
              "    <tr style=\"text-align: right;\">\n",
              "      <th></th>\n",
              "      <th>text</th>\n",
              "      <th>emoji</th>\n",
              "    </tr>\n",
              "  </thead>\n",
              "  <tbody>\n",
              "    <tr>\n",
              "      <th>0</th>\n",
              "      <td>Chance The Rapper or Kent Bazemore?</td>\n",
              "      <td>🤔</td>\n",
              "    </tr>\n",
              "    <tr>\n",
              "      <th>1</th>\n",
              "      <td>Yup we love you, you're so precious</td>\n",
              "      <td>💙</td>\n",
              "    </tr>\n",
              "    <tr>\n",
              "      <th>2</th>\n",
              "      <td>Fav Sing Me to Sleep by Alan Walker</td>\n",
              "      <td>💛</td>\n",
              "    </tr>\n",
              "    <tr>\n",
              "      <th>3</th>\n",
              "      <td>Wife From The Real-Life In Our Stars' Couple D...</td>\n",
              "      <td>💔</td>\n",
              "    </tr>\n",
              "    <tr>\n",
              "      <th>4</th>\n",
              "      <td>Why am I up so late</td>\n",
              "      <td>😔</td>\n",
              "    </tr>\n",
              "    <tr>\n",
              "      <th>...</th>\n",
              "      <td>...</td>\n",
              "      <td>...</td>\n",
              "    </tr>\n",
              "    <tr>\n",
              "      <th>806198</th>\n",
              "      <td>When your mama about to whoop your ass so you ...</td>\n",
              "      <td>😂</td>\n",
              "    </tr>\n",
              "    <tr>\n",
              "      <th>806199</th>\n",
              "      <td>You both are amazing people</td>\n",
              "      <td>❤</td>\n",
              "    </tr>\n",
              "    <tr>\n",
              "      <th>806200</th>\n",
              "      <td>Best video on Twitter still</td>\n",
              "      <td>😂</td>\n",
              "    </tr>\n",
              "    <tr>\n",
              "      <th>806201</th>\n",
              "      <td>Seriously so annoying que fuckin trake</td>\n",
              "      <td>😂</td>\n",
              "    </tr>\n",
              "    <tr>\n",
              "      <th>806202</th>\n",
              "      <td>there is a guy here akundinetsa he wants to be...</td>\n",
              "      <td>😂</td>\n",
              "    </tr>\n",
              "  </tbody>\n",
              "</table>\n",
              "<p>806203 rows × 2 columns</p>\n",
              "</div>"
            ],
            "text/plain": [
              "                                                     text emoji\n",
              "0                     Chance The Rapper or Kent Bazemore?     🤔\n",
              "1                     Yup we love you, you're so precious     💙\n",
              "2                     Fav Sing Me to Sleep by Alan Walker     💛\n",
              "3       Wife From The Real-Life In Our Stars' Couple D...     💔\n",
              "4                                     Why am I up so late     😔\n",
              "...                                                   ...   ...\n",
              "806198  When your mama about to whoop your ass so you ...     😂\n",
              "806199                        You both are amazing people     ❤\n",
              "806200                        Best video on Twitter still     😂\n",
              "806201             Seriously so annoying que fuckin trake     😂\n",
              "806202  there is a guy here akundinetsa he wants to be...     😂\n",
              "\n",
              "[806203 rows x 2 columns]"
            ]
          },
          "metadata": {},
          "execution_count": 9
        }
      ],
      "source": [
        "emojis"
      ]
    },
    {
      "cell_type": "code",
      "execution_count": 10,
      "metadata": {
        "id": "w3ILuJvDDITj"
      },
      "outputs": [],
      "source": [
        "emojis = emojis[emojis['text'].str.len() > 3]"
      ]
    },
    {
      "cell_type": "code",
      "execution_count": 11,
      "metadata": {
        "colab": {
          "base_uri": "https://localhost:8080/",
          "height": 424
        },
        "id": "r9ZHdMFCDcDL",
        "outputId": "7378900e-9a83-4ca1-b5ee-3c550234bd75"
      },
      "outputs": [
        {
          "output_type": "execute_result",
          "data": {
            "text/html": [
              "<div>\n",
              "<style scoped>\n",
              "    .dataframe tbody tr th:only-of-type {\n",
              "        vertical-align: middle;\n",
              "    }\n",
              "\n",
              "    .dataframe tbody tr th {\n",
              "        vertical-align: top;\n",
              "    }\n",
              "\n",
              "    .dataframe thead th {\n",
              "        text-align: right;\n",
              "    }\n",
              "</style>\n",
              "<table border=\"1\" class=\"dataframe\">\n",
              "  <thead>\n",
              "    <tr style=\"text-align: right;\">\n",
              "      <th></th>\n",
              "      <th>text</th>\n",
              "      <th>emoji</th>\n",
              "    </tr>\n",
              "  </thead>\n",
              "  <tbody>\n",
              "    <tr>\n",
              "      <th>0</th>\n",
              "      <td>Chance The Rapper or Kent Bazemore?</td>\n",
              "      <td>🤔</td>\n",
              "    </tr>\n",
              "    <tr>\n",
              "      <th>1</th>\n",
              "      <td>Yup we love you, you're so precious</td>\n",
              "      <td>💙</td>\n",
              "    </tr>\n",
              "    <tr>\n",
              "      <th>2</th>\n",
              "      <td>Fav Sing Me to Sleep by Alan Walker</td>\n",
              "      <td>💛</td>\n",
              "    </tr>\n",
              "    <tr>\n",
              "      <th>3</th>\n",
              "      <td>Wife From The Real-Life In Our Stars' Couple D...</td>\n",
              "      <td>💔</td>\n",
              "    </tr>\n",
              "    <tr>\n",
              "      <th>4</th>\n",
              "      <td>Why am I up so late</td>\n",
              "      <td>😔</td>\n",
              "    </tr>\n",
              "    <tr>\n",
              "      <th>...</th>\n",
              "      <td>...</td>\n",
              "      <td>...</td>\n",
              "    </tr>\n",
              "    <tr>\n",
              "      <th>806198</th>\n",
              "      <td>When your mama about to whoop your ass so you ...</td>\n",
              "      <td>😂</td>\n",
              "    </tr>\n",
              "    <tr>\n",
              "      <th>806199</th>\n",
              "      <td>You both are amazing people</td>\n",
              "      <td>❤</td>\n",
              "    </tr>\n",
              "    <tr>\n",
              "      <th>806200</th>\n",
              "      <td>Best video on Twitter still</td>\n",
              "      <td>😂</td>\n",
              "    </tr>\n",
              "    <tr>\n",
              "      <th>806201</th>\n",
              "      <td>Seriously so annoying que fuckin trake</td>\n",
              "      <td>😂</td>\n",
              "    </tr>\n",
              "    <tr>\n",
              "      <th>806202</th>\n",
              "      <td>there is a guy here akundinetsa he wants to be...</td>\n",
              "      <td>😂</td>\n",
              "    </tr>\n",
              "  </tbody>\n",
              "</table>\n",
              "<p>804281 rows × 2 columns</p>\n",
              "</div>"
            ],
            "text/plain": [
              "                                                     text emoji\n",
              "0                     Chance The Rapper or Kent Bazemore?     🤔\n",
              "1                     Yup we love you, you're so precious     💙\n",
              "2                     Fav Sing Me to Sleep by Alan Walker     💛\n",
              "3       Wife From The Real-Life In Our Stars' Couple D...     💔\n",
              "4                                     Why am I up so late     😔\n",
              "...                                                   ...   ...\n",
              "806198  When your mama about to whoop your ass so you ...     😂\n",
              "806199                        You both are amazing people     ❤\n",
              "806200                        Best video on Twitter still     😂\n",
              "806201             Seriously so annoying que fuckin trake     😂\n",
              "806202  there is a guy here akundinetsa he wants to be...     😂\n",
              "\n",
              "[804281 rows x 2 columns]"
            ]
          },
          "metadata": {},
          "execution_count": 11
        }
      ],
      "source": [
        "emojis"
      ]
    },
    {
      "cell_type": "code",
      "execution_count": 12,
      "metadata": {
        "id": "3wLFhQIyCPhh"
      },
      "outputs": [],
      "source": [
        "TOP_FRACTION = 0.75"
      ]
    },
    {
      "cell_type": "code",
      "execution_count": 13,
      "metadata": {
        "id": "hUkueneaBU3K"
      },
      "outputs": [],
      "source": [
        "count = 0\n",
        "top_emojis = set()\n",
        "for index, value in emojis['emoji'].value_counts().iteritems():\n",
        "  if count < TOP_FRACTION * TOTAL_COUNT:\n",
        "    count += value\n",
        "    top_emojis.add(index)"
      ]
    },
    {
      "cell_type": "code",
      "execution_count": 14,
      "metadata": {
        "colab": {
          "base_uri": "https://localhost:8080/"
        },
        "id": "jSasXyWqCHi9",
        "outputId": "37aa2e78-2b53-4160-fb15-779a4b2d2840"
      },
      "outputs": [
        {
          "output_type": "execute_result",
          "data": {
            "text/plain": [
              "64"
            ]
          },
          "metadata": {},
          "execution_count": 14
        }
      ],
      "source": [
        "len(top_emojis)"
      ]
    },
    {
      "cell_type": "code",
      "execution_count": 15,
      "metadata": {
        "id": "ngDsdjoTCdhv"
      },
      "outputs": [],
      "source": [
        "filtered_emojis = emojis[emojis['emoji'].isin(top_emojis)]"
      ]
    },
    {
      "cell_type": "code",
      "execution_count": 16,
      "metadata": {
        "colab": {
          "base_uri": "https://localhost:8080/"
        },
        "id": "Fv3wAvz5C5dK",
        "outputId": "d378d23d-595b-4794-c044-1ca6a03d5be0"
      },
      "outputs": [
        {
          "output_type": "execute_result",
          "data": {
            "text/plain": [
              "(804281, 607184)"
            ]
          },
          "metadata": {},
          "execution_count": 16
        }
      ],
      "source": [
        "len(emojis), len(filtered_emojis)"
      ]
    },
    {
      "cell_type": "code",
      "execution_count": 17,
      "metadata": {
        "id": "MSDgJYE0KASC"
      },
      "outputs": [],
      "source": [
        "from tensorflow import keras\n",
        "from keras.preprocessing.text import Tokenizer\n",
        "from tensorflow.keras.utils import to_categorical\n",
        "from keras.preprocessing.sequence import pad_sequences\n",
        "from keras.layers import Activation, Conv2D, Input, Embedding, Reshape, MaxPool2D, Concatenate, Flatten, Dropout, Dense, Conv1D\n",
        "from keras.layers import MaxPool1D\n",
        "from keras.models import Model\n",
        "from keras.callbacks import ModelCheckpoint\n",
        "from tensorflow.keras.optimizers import Adam"
      ]
    },
    {
      "cell_type": "code",
      "execution_count": 18,
      "metadata": {
        "id": "odiOseiyKEmo"
      },
      "outputs": [],
      "source": [
        "# make the max word length to be constant\n",
        "MAX_WORDS = 10000\n",
        "MAX_SEQUENCE_LENGTH = 100\n",
        "# the percentage of train test split to be applied\n",
        "VALIDATION_SPLIT = 0.20\n",
        "# the dimension of vectors to be used\n",
        "EMBEDDING_DIM = 100\n",
        "EMOJIS_COUNT = len(top_emojis)\n",
        "# filter sizes of the different conv layers \n",
        "filter_sizes = [3,4,5]\n",
        "num_filters = 512\n",
        "embedding_dim = 100\n",
        "# dropout probability\n",
        "drop = 0.4\n",
        "batch_size = 30\n",
        "epochs = 20"
      ]
    },
    {
      "cell_type": "code",
      "execution_count": 19,
      "metadata": {
        "colab": {
          "base_uri": "https://localhost:8080/"
        },
        "id": "22Jh5bZmKUCa",
        "outputId": "7e4f4078-05a6-47e7-ef35-060e9f4349d1"
      },
      "outputs": [
        {
          "output_type": "execute_result",
          "data": {
            "text/plain": [
              "64"
            ]
          },
          "metadata": {},
          "execution_count": 19
        }
      ],
      "source": [
        "EMOJIS_COUNT"
      ]
    },
    {
      "cell_type": "markdown",
      "metadata": {
        "id": "kUOeDZrILHyM"
      },
      "source": [
        "# Данные несбалансированы - проведем балансировку датасета "
      ]
    },
    {
      "cell_type": "code",
      "execution_count": 20,
      "metadata": {
        "colab": {
          "base_uri": "https://localhost:8080/"
        },
        "id": "q4OEvRqCLGyc",
        "outputId": "135f19aa-e8ac-478c-c486-529446106164"
      },
      "outputs": [
        {
          "output_type": "stream",
          "name": "stdout",
          "text": [
            "Dataset Size: 176832\n"
          ]
        }
      ],
      "source": [
        "from imblearn.under_sampling import RandomUnderSampler\n",
        "\n",
        "random_under_sampler = RandomUnderSampler(random_state=42)\n",
        "X_us, y_us = random_under_sampler.fit_resample(filtered_emojis[['text']], filtered_emojis['emoji'])\n",
        "\n",
        "print('Dataset Size:', len(X_us))"
      ]
    },
    {
      "cell_type": "code",
      "execution_count": 21,
      "metadata": {
        "colab": {
          "base_uri": "https://localhost:8080/"
        },
        "id": "MbNs4iN1OzSB",
        "outputId": "3d663633-3231-4cca-e081-3356b64e8693"
      },
      "outputs": [
        {
          "output_type": "stream",
          "name": "stdout",
          "text": [
            "©\n",
            "©\n",
            "©\n"
          ]
        }
      ],
      "source": [
        "for emoji in y_us[:3]:\n",
        "  print(emoji)"
      ]
    },
    {
      "cell_type": "markdown",
      "metadata": {
        "id": "1QPjaobJL3Jj"
      },
      "source": [
        ""
      ]
    },
    {
      "cell_type": "code",
      "execution_count": 22,
      "metadata": {
        "colab": {
          "base_uri": "https://localhost:8080/"
        },
        "id": "14FILYU9KuY3",
        "outputId": "38aa9030-f314-49a5-a5b2-829881952c55"
      },
      "outputs": [
        {
          "output_type": "execute_result",
          "data": {
            "text/plain": [
              "0         None\n",
              "1         None\n",
              "2         None\n",
              "3         None\n",
              "4         None\n",
              "          ... \n",
              "176827    None\n",
              "176828    None\n",
              "176829    None\n",
              "176830    None\n",
              "176831    None\n",
              "Name: text, Length: 176832, dtype: object"
            ]
          },
          "metadata": {},
          "execution_count": 22
        }
      ],
      "source": [
        "texts = []\n",
        "X_us['text'].apply(lambda t: texts.append(t))"
      ]
    },
    {
      "cell_type": "code",
      "execution_count": 23,
      "metadata": {
        "id": "d-abOEAjKU8V"
      },
      "outputs": [],
      "source": [
        "labels_index = {}  # dictionary mapping label name to numeric id\n",
        "labels = []  # list of label ids\n",
        "\n",
        "for emoji in y_us:\n",
        "    if emoji in labels_index:\n",
        "        label_id = labels_index[emoji]\n",
        "    else:\n",
        "        label_id = len(labels_index)\n",
        "        labels_index[emoji] = label_id\n",
        "    labels.append(label_id)"
      ]
    },
    {
      "cell_type": "code",
      "execution_count": 24,
      "metadata": {
        "colab": {
          "base_uri": "https://localhost:8080/"
        },
        "id": "Xsrz_vqQKbVH",
        "outputId": "0255a428-338a-47c3-9be1-8c5d0b200423"
      },
      "outputs": [
        {
          "output_type": "stream",
          "name": "stdout",
          "text": [
            "unique words : 56325\n"
          ]
        }
      ],
      "source": [
        "tokenizer  = Tokenizer(num_words = MAX_WORDS)\n",
        "tokenizer.fit_on_texts(texts)\n",
        "sequences =  tokenizer.texts_to_sequences(texts)\n",
        "\n",
        "word_index = tokenizer.word_index\n",
        "print(\"unique words : {}\".format(len(word_index)))\n",
        "\n",
        "data = pad_sequences(sequences, maxlen=MAX_SEQUENCE_LENGTH)"
      ]
    },
    {
      "cell_type": "code",
      "execution_count": 25,
      "metadata": {
        "id": "2qS-ZWMALNtA"
      },
      "outputs": [],
      "source": [
        "import numpy as np"
      ]
    },
    {
      "cell_type": "code",
      "execution_count": 26,
      "metadata": {
        "colab": {
          "base_uri": "https://localhost:8080/"
        },
        "id": "96GbbW3WKkRl",
        "outputId": "66cf33af-4017-48b5-92c3-b047b24d2e04"
      },
      "outputs": [
        {
          "output_type": "stream",
          "name": "stdout",
          "text": [
            "Shape of data tensor: (176832, 100)\n",
            "Shape of label tensor: (176832, 64)\n"
          ]
        }
      ],
      "source": [
        "labels = to_categorical(np.asarray(labels))\n",
        "print('Shape of data tensor:', data.shape)\n",
        "print('Shape of label tensor:', labels.shape)"
      ]
    },
    {
      "cell_type": "code",
      "execution_count": 27,
      "metadata": {
        "id": "Bj1dtYbeLLZc"
      },
      "outputs": [],
      "source": [
        "# split the data into a training set and a validation set\n",
        "indices = np.arange(data.shape[0])\n",
        "np.random.shuffle(indices)\n",
        "data = data[indices]\n",
        "labels = labels[indices]\n",
        "nb_validation_samples = int(VALIDATION_SPLIT * data.shape[0])\n",
        "\n",
        "x_train = data[:-nb_validation_samples]\n",
        "y_train = labels[:-nb_validation_samples]\n",
        "x_val = data[-nb_validation_samples:]\n",
        "y_val = labels[-nb_validation_samples:]"
      ]
    },
    {
      "cell_type": "code",
      "execution_count": 28,
      "metadata": {
        "id": "gYp_v1ZWLTj4"
      },
      "outputs": [],
      "source": [
        "# !wget https://nlp.stanford.edu/data/glove.twitter.27B.zip"
      ]
    },
    {
      "cell_type": "code",
      "execution_count": 29,
      "metadata": {
        "id": "OUYTcpGMLZ8S"
      },
      "outputs": [],
      "source": [
        "# !unzip glove.twitter.27B.zip"
      ]
    },
    {
      "cell_type": "code",
      "execution_count": 30,
      "metadata": {
        "id": "CQUQ6VvImrvz"
      },
      "outputs": [],
      "source": [
        "# !cp glove.twitter.27B.100d.txt /content/drive/MyDrive/"
      ]
    },
    {
      "cell_type": "code",
      "execution_count": 31,
      "metadata": {
        "colab": {
          "base_uri": "https://localhost:8080/"
        },
        "id": "GTWHSYKTLg6t",
        "outputId": "09577c56-8bca-4512-f459-dd30a1dd098a"
      },
      "outputs": [
        {
          "output_type": "stream",
          "name": "stdout",
          "text": [
            "Found 1193514 word vectors.\n"
          ]
        }
      ],
      "source": [
        "embeddings_index = {}\n",
        "with open('/content/drive/MyDrive/glove.twitter.27B.100d.txt') as f:\n",
        "    for line in f:\n",
        "        values = line.split()\n",
        "        word = values[0]\n",
        "        coefs = np.asarray(values[1:], dtype='float32')\n",
        "        embeddings_index[word] = coefs\n",
        "\n",
        "print('Found %s word vectors.' % len(embeddings_index))"
      ]
    },
    {
      "cell_type": "code",
      "execution_count": 32,
      "metadata": {
        "id": "roM99XVALoT5"
      },
      "outputs": [],
      "source": [
        "embedding_matrix = np.zeros((len(word_index) + 1, EMBEDDING_DIM))\n",
        "for word, i in word_index.items():\n",
        "    embedding_vector = embeddings_index.get(word)\n",
        "    if embedding_vector is not None:\n",
        "        # words not found in embedding index will be all-zeros.\n",
        "        embedding_matrix[i] = embedding_vector"
      ]
    },
    {
      "cell_type": "code",
      "execution_count": 33,
      "metadata": {
        "colab": {
          "base_uri": "https://localhost:8080/"
        },
        "id": "1wZs1VwLM42j",
        "outputId": "556fb6d2-f9e3-451b-baf6-a87a9639321a"
      },
      "outputs": [
        {
          "output_type": "execute_result",
          "data": {
            "text/plain": [
              "(56326, 100)"
            ]
          },
          "metadata": {},
          "execution_count": 33
        }
      ],
      "source": [
        "embedding_matrix.shape"
      ]
    },
    {
      "cell_type": "code",
      "execution_count": 34,
      "metadata": {
        "id": "B1tF0xrdM6ki"
      },
      "outputs": [],
      "source": [
        "from keras.layers import Embedding\n",
        "\n",
        "embedding_layer = Embedding(len(word_index) + 1,\n",
        "                            EMBEDDING_DIM,\n",
        "                            weights=[embedding_matrix],\n",
        "                            input_length=MAX_SEQUENCE_LENGTH,\n",
        "                            trainable=False)"
      ]
    },
    {
      "cell_type": "code",
      "execution_count": 35,
      "metadata": {
        "colab": {
          "base_uri": "https://localhost:8080/"
        },
        "id": "VKNG2ojoM9DK",
        "outputId": "dd0c7d92-a456-47a7-f6e8-a44d2da2f934"
      },
      "outputs": [
        {
          "output_type": "stream",
          "name": "stdout",
          "text": [
            "(None, 100, 100)\n",
            "(None, 100, 100, 1)\n",
            "Model: \"model\"\n",
            "__________________________________________________________________________________________________\n",
            " Layer (type)                   Output Shape         Param #     Connected to                     \n",
            "==================================================================================================\n",
            " input_1 (InputLayer)           [(None, 100)]        0           []                               \n",
            "                                                                                                  \n",
            " embedding (Embedding)          (None, 100, 100)     5632600     ['input_1[0][0]']                \n",
            "                                                                                                  \n",
            " reshape (Reshape)              (None, 100, 100, 1)  0           ['embedding[0][0]']              \n",
            "                                                                                                  \n",
            " conv2d (Conv2D)                (None, 98, 1, 512)   154112      ['reshape[0][0]']                \n",
            "                                                                                                  \n",
            " conv2d_1 (Conv2D)              (None, 97, 1, 512)   205312      ['reshape[0][0]']                \n",
            "                                                                                                  \n",
            " conv2d_2 (Conv2D)              (None, 96, 1, 512)   256512      ['reshape[0][0]']                \n",
            "                                                                                                  \n",
            " max_pooling2d (MaxPooling2D)   (None, 1, 1, 512)    0           ['conv2d[0][0]']                 \n",
            "                                                                                                  \n",
            " max_pooling2d_1 (MaxPooling2D)  (None, 1, 1, 512)   0           ['conv2d_1[0][0]']               \n",
            "                                                                                                  \n",
            " max_pooling2d_2 (MaxPooling2D)  (None, 1, 1, 512)   0           ['conv2d_2[0][0]']               \n",
            "                                                                                                  \n",
            " concatenate (Concatenate)      (None, 3, 1, 512)    0           ['max_pooling2d[0][0]',          \n",
            "                                                                  'max_pooling2d_1[0][0]',        \n",
            "                                                                  'max_pooling2d_2[0][0]']        \n",
            "                                                                                                  \n",
            " flatten (Flatten)              (None, 1536)         0           ['concatenate[0][0]']            \n",
            "                                                                                                  \n",
            " dropout (Dropout)              (None, 1536)         0           ['flatten[0][0]']                \n",
            "                                                                                                  \n",
            " dense (Dense)                  (None, 64)           98368       ['dropout[0][0]']                \n",
            "                                                                                                  \n",
            "==================================================================================================\n",
            "Total params: 6,346,904\n",
            "Trainable params: 714,304\n",
            "Non-trainable params: 5,632,600\n",
            "__________________________________________________________________________________________________\n"
          ]
        }
      ],
      "source": [
        "inputs = Input(shape=(MAX_SEQUENCE_LENGTH,), dtype='int32')\n",
        "embedding = embedding_layer(inputs)\n",
        "\n",
        "print(embedding.shape)\n",
        "reshape = Reshape((MAX_SEQUENCE_LENGTH, EMBEDDING_DIM, 1))(embedding)\n",
        "print(reshape.shape)\n",
        "\n",
        "conv_0 = Conv2D(num_filters, kernel_size=(filter_sizes[0], embedding_dim), padding='valid', kernel_initializer='normal', activation='relu')(reshape)\n",
        "conv_1 = Conv2D(num_filters, kernel_size=(filter_sizes[1], embedding_dim), padding='valid', kernel_initializer='normal', activation='relu')(reshape)\n",
        "conv_2 = Conv2D(num_filters, kernel_size=(filter_sizes[2], embedding_dim), padding='valid', kernel_initializer='normal', activation='relu')(reshape)\n",
        "\n",
        "maxpool_0 = MaxPool2D(pool_size=(MAX_SEQUENCE_LENGTH - filter_sizes[0] + 1, 1), strides=(1,1), padding='valid')(conv_0)\n",
        "maxpool_1 = MaxPool2D(pool_size=(MAX_SEQUENCE_LENGTH - filter_sizes[1] + 1, 1), strides=(1,1), padding='valid')(conv_1)\n",
        "maxpool_2 = MaxPool2D(pool_size=(MAX_SEQUENCE_LENGTH - filter_sizes[2] + 1, 1), strides=(1,1), padding='valid')(conv_2)\n",
        "\n",
        "concatenated_tensor = Concatenate(axis=1)([maxpool_0, maxpool_1, maxpool_2])\n",
        "flatten = Flatten()(concatenated_tensor)\n",
        "dropout = Dropout(drop)(flatten)\n",
        "output = Dense(units=EMOJIS_COUNT, activation='softmax')(dropout)\n",
        "\n",
        "# this creates a model that includes\n",
        "model = Model(inputs=inputs, outputs=output)\n",
        "\n",
        "checkpoint = ModelCheckpoint('weights_cnn_sentece.hdf5', monitor='val_accuracy', verbose=1, save_best_only=True, mode='auto')\n",
        "adam = Adam(learning_rate=1e-4, beta_1=0.9, beta_2=0.999, epsilon=1e-08, decay=0.0)\n",
        "\n",
        "model.compile(optimizer=adam, loss='categorical_crossentropy', metrics=['accuracy'])\n",
        "model.summary()"
      ]
    },
    {
      "cell_type": "code",
      "execution_count": 36,
      "metadata": {
        "colab": {
          "base_uri": "https://localhost:8080/"
        },
        "id": "QS04qY9rND4n",
        "outputId": "5650981a-43d5-42bc-c10d-2555d4c2f7ba"
      },
      "outputs": [
        {
          "output_type": "stream",
          "name": "stdout",
          "text": [
            "Traning Model...\n",
            "Epoch 1/20\n",
            "4716/4716 [==============================] - ETA: 0s - loss: 3.8403 - accuracy: 0.0994\n",
            "Epoch 00001: val_accuracy improved from -inf to 0.15580, saving model to weights_cnn_sentece.hdf5\n",
            "4716/4716 [==============================] - 172s 34ms/step - loss: 3.8403 - accuracy: 0.0994 - val_loss: 3.4987 - val_accuracy: 0.1558\n",
            "Epoch 2/20\n",
            "4715/4716 [============================>.] - ETA: 0s - loss: 3.4451 - accuracy: 0.1666\n",
            "Epoch 00002: val_accuracy improved from 0.15580 to 0.18450, saving model to weights_cnn_sentece.hdf5\n",
            "4716/4716 [==============================] - 155s 33ms/step - loss: 3.4452 - accuracy: 0.1666 - val_loss: 3.3636 - val_accuracy: 0.1845\n",
            "Epoch 3/20\n",
            "4715/4716 [============================>.] - ETA: 0s - loss: 3.2971 - accuracy: 0.1968\n",
            "Epoch 00003: val_accuracy improved from 0.18450 to 0.20011, saving model to weights_cnn_sentece.hdf5\n",
            "4716/4716 [==============================] - 153s 33ms/step - loss: 3.2971 - accuracy: 0.1968 - val_loss: 3.2968 - val_accuracy: 0.2001\n",
            "Epoch 4/20\n",
            "4715/4716 [============================>.] - ETA: 0s - loss: 3.2008 - accuracy: 0.2179\n",
            "Epoch 00004: val_accuracy improved from 0.20011 to 0.21170, saving model to weights_cnn_sentece.hdf5\n",
            "4716/4716 [==============================] - 152s 32ms/step - loss: 3.2007 - accuracy: 0.2179 - val_loss: 3.2476 - val_accuracy: 0.2117\n",
            "Epoch 5/20\n",
            "4715/4716 [============================>.] - ETA: 0s - loss: 3.1197 - accuracy: 0.2347\n",
            "Epoch 00005: val_accuracy improved from 0.21170 to 0.22069, saving model to weights_cnn_sentece.hdf5\n",
            "4716/4716 [==============================] - 152s 32ms/step - loss: 3.1197 - accuracy: 0.2347 - val_loss: 3.2169 - val_accuracy: 0.2207\n",
            "Epoch 6/20\n",
            "4715/4716 [============================>.] - ETA: 0s - loss: 3.0556 - accuracy: 0.2490\n",
            "Epoch 00006: val_accuracy improved from 0.22069 to 0.22663, saving model to weights_cnn_sentece.hdf5\n",
            "4716/4716 [==============================] - 156s 33ms/step - loss: 3.0556 - accuracy: 0.2490 - val_loss: 3.1857 - val_accuracy: 0.2266\n",
            "Epoch 7/20\n",
            "4715/4716 [============================>.] - ETA: 0s - loss: 2.9947 - accuracy: 0.2616\n",
            "Epoch 00007: val_accuracy improved from 0.22663 to 0.23443, saving model to weights_cnn_sentece.hdf5\n",
            "4716/4716 [==============================] - 155s 33ms/step - loss: 2.9947 - accuracy: 0.2616 - val_loss: 3.1645 - val_accuracy: 0.2344\n",
            "Epoch 8/20\n",
            "4715/4716 [============================>.] - ETA: 0s - loss: 2.9397 - accuracy: 0.2724\n",
            "Epoch 00008: val_accuracy improved from 0.23443 to 0.23856, saving model to weights_cnn_sentece.hdf5\n",
            "4716/4716 [==============================] - 154s 33ms/step - loss: 2.9397 - accuracy: 0.2724 - val_loss: 3.1439 - val_accuracy: 0.2386\n",
            "Epoch 9/20\n",
            "4715/4716 [============================>.] - ETA: 0s - loss: 2.8877 - accuracy: 0.2841\n",
            "Epoch 00009: val_accuracy improved from 0.23856 to 0.24292, saving model to weights_cnn_sentece.hdf5\n",
            "4716/4716 [==============================] - 153s 32ms/step - loss: 2.8877 - accuracy: 0.2840 - val_loss: 3.1315 - val_accuracy: 0.2429\n",
            "Epoch 10/20\n",
            "4715/4716 [============================>.] - ETA: 0s - loss: 2.8424 - accuracy: 0.2936\n",
            "Epoch 00010: val_accuracy improved from 0.24292 to 0.24501, saving model to weights_cnn_sentece.hdf5\n",
            "4716/4716 [==============================] - 153s 32ms/step - loss: 2.8424 - accuracy: 0.2936 - val_loss: 3.1226 - val_accuracy: 0.2450\n",
            "Epoch 11/20\n",
            "4715/4716 [============================>.] - ETA: 0s - loss: 2.7944 - accuracy: 0.3041\n",
            "Epoch 00011: val_accuracy improved from 0.24501 to 0.24775, saving model to weights_cnn_sentece.hdf5\n",
            "4716/4716 [==============================] - 154s 33ms/step - loss: 2.7944 - accuracy: 0.3041 - val_loss: 3.1107 - val_accuracy: 0.2478\n",
            "Epoch 12/20\n",
            "4715/4716 [============================>.] - ETA: 0s - loss: 2.7535 - accuracy: 0.3130\n",
            "Epoch 00012: val_accuracy improved from 0.24775 to 0.25095, saving model to weights_cnn_sentece.hdf5\n",
            "4716/4716 [==============================] - 154s 33ms/step - loss: 2.7536 - accuracy: 0.3130 - val_loss: 3.1063 - val_accuracy: 0.2509\n",
            "Epoch 13/20\n",
            "4715/4716 [============================>.] - ETA: 0s - loss: 2.7133 - accuracy: 0.3213\n",
            "Epoch 00013: val_accuracy improved from 0.25095 to 0.25417, saving model to weights_cnn_sentece.hdf5\n",
            "4716/4716 [==============================] - 153s 32ms/step - loss: 2.7133 - accuracy: 0.3213 - val_loss: 3.0981 - val_accuracy: 0.2542\n",
            "Epoch 14/20\n",
            "4715/4716 [============================>.] - ETA: 0s - loss: 2.6772 - accuracy: 0.3275\n",
            "Epoch 00014: val_accuracy improved from 0.25417 to 0.25462, saving model to weights_cnn_sentece.hdf5\n",
            "4716/4716 [==============================] - 153s 32ms/step - loss: 2.6772 - accuracy: 0.3275 - val_loss: 3.0976 - val_accuracy: 0.2546\n",
            "Epoch 15/20\n",
            "4715/4716 [============================>.] - ETA: 0s - loss: 2.6426 - accuracy: 0.3376\n",
            "Epoch 00015: val_accuracy improved from 0.25462 to 0.25652, saving model to weights_cnn_sentece.hdf5\n",
            "4716/4716 [==============================] - 153s 32ms/step - loss: 2.6426 - accuracy: 0.3376 - val_loss: 3.0946 - val_accuracy: 0.2565\n",
            "Epoch 16/20\n",
            "4715/4716 [============================>.] - ETA: 0s - loss: 2.6064 - accuracy: 0.3451\n",
            "Epoch 00016: val_accuracy improved from 0.25652 to 0.25841, saving model to weights_cnn_sentece.hdf5\n",
            "4716/4716 [==============================] - 154s 33ms/step - loss: 2.6063 - accuracy: 0.3451 - val_loss: 3.0936 - val_accuracy: 0.2584\n",
            "Epoch 17/20\n",
            "4715/4716 [============================>.] - ETA: 0s - loss: 2.5750 - accuracy: 0.3509\n",
            "Epoch 00017: val_accuracy improved from 0.25841 to 0.26048, saving model to weights_cnn_sentece.hdf5\n",
            "4716/4716 [==============================] - 154s 33ms/step - loss: 2.5749 - accuracy: 0.3509 - val_loss: 3.0896 - val_accuracy: 0.2605\n",
            "Epoch 18/20\n",
            "4715/4716 [============================>.] - ETA: 0s - loss: 2.5449 - accuracy: 0.3577\n",
            "Epoch 00018: val_accuracy improved from 0.26048 to 0.26178, saving model to weights_cnn_sentece.hdf5\n",
            "4716/4716 [==============================] - 155s 33ms/step - loss: 2.5449 - accuracy: 0.3577 - val_loss: 3.0894 - val_accuracy: 0.2618\n",
            "Epoch 19/20\n",
            "4715/4716 [============================>.] - ETA: 0s - loss: 2.5130 - accuracy: 0.3640\n",
            "Epoch 00019: val_accuracy improved from 0.26178 to 0.26226, saving model to weights_cnn_sentece.hdf5\n",
            "4716/4716 [==============================] - 154s 33ms/step - loss: 2.5130 - accuracy: 0.3640 - val_loss: 3.0950 - val_accuracy: 0.2623\n",
            "Epoch 20/20\n",
            "4715/4716 [============================>.] - ETA: 0s - loss: 2.4804 - accuracy: 0.3708\n",
            "Epoch 00020: val_accuracy improved from 0.26226 to 0.26305, saving model to weights_cnn_sentece.hdf5\n",
            "4716/4716 [==============================] - 155s 33ms/step - loss: 2.4804 - accuracy: 0.3708 - val_loss: 3.0950 - val_accuracy: 0.2630\n"
          ]
        }
      ],
      "source": [
        "print(\"Traning Model...\")\n",
        "history = model.fit(x_train, y_train, batch_size=batch_size, epochs=epochs, verbose=1, callbacks=[checkpoint], validation_data=(x_val, y_val))"
      ]
    },
    {
      "cell_type": "code",
      "execution_count": 37,
      "metadata": {
        "id": "IXpJoGrxR7gw",
        "colab": {
          "base_uri": "https://localhost:8080/"
        },
        "outputId": "92859ca3-9bc0-4d62-e82d-db8a91832ed5"
      },
      "outputs": [
        {
          "output_type": "stream",
          "name": "stdout",
          "text": [
            "dict_keys(['loss', 'accuracy', 'val_loss', 'val_accuracy'])\n"
          ]
        }
      ],
      "source": [
        "print(history.history.keys())\n"
      ]
    },
    {
      "cell_type": "code",
      "execution_count": 38,
      "metadata": {
        "id": "3JsyXYtjeZKp",
        "colab": {
          "base_uri": "https://localhost:8080/",
          "height": 295
        },
        "outputId": "e1194ab0-c16c-4f43-de0d-e18d87969e01"
      },
      "outputs": [
        {
          "output_type": "display_data",
          "data": {
            "image/png": "[encoded data removed]",
            "text/plain": [
              "<Figure size 432x288 with 1 Axes>"
            ]
          },
          "metadata": {
            "needs_background": "light"
          }
        }
      ],
      "source": [
        "import matplotlib.pyplot as plt\n",
        "\n",
        "# summarize history for accuracy\n",
        "plt.plot(history.history['accuracy'])\n",
        "plt.plot(history.history['val_accuracy'])\n",
        "plt.title('model accuracy')\n",
        "plt.ylabel('accuracy')\n",
        "plt.xlabel('epoch')\n",
        "plt.legend(['train', 'test'], loc='upper left')\n",
        "plt.show()"
      ]
    },
    {
      "cell_type": "code",
      "execution_count": 39,
      "metadata": {
        "id": "JYwVPdIGNNiP"
      },
      "outputs": [],
      "source": [
        "sequences =  tokenizer.texts_to_sequences([\"love you so much\"])\n",
        "query = pad_sequences(sequences, maxlen=MAX_SEQUENCE_LENGTH)\n",
        "output = model.predict(query)\n",
        "label_id = np.argmax(output)"
      ]
    },
    {
      "cell_type": "code",
      "execution_count": 40,
      "metadata": {
        "id": "MKNQpM-aTXrL",
        "colab": {
          "base_uri": "https://localhost:8080/"
        },
        "outputId": "b7a6bd33-d927-4712-8c04-3927440ac7fd"
      },
      "outputs": [
        {
          "output_type": "stream",
          "name": "stdout",
          "text": [
            "😑\n"
          ]
        }
      ],
      "source": [
        "for e, v in labels_index.items():\n",
        "  if v == label_id:\n",
        "    print(e)"
      ]
    },
    {
      "cell_type": "code",
      "execution_count": 41,
      "metadata": {
        "id": "EVsNh4M1ThhM",
        "colab": {
          "base_uri": "https://localhost:8080/"
        },
        "outputId": "0bfcd89a-0a26-4ce3-acfe-d38a2e9fae74"
      },
      "outputs": [
        {
          "output_type": "stream",
          "name": "stdout",
          "text": [
            "INFO:tensorflow:Assets written to: kaggle_model_63/assets\n"
          ]
        }
      ],
      "source": [
        "model.save(\"kaggle_model_63\")"
      ]
    },
    {
      "cell_type": "code",
      "execution_count": 42,
      "metadata": {
        "id": "YcJOKHqgaHGe"
      },
      "outputs": [],
      "source": [
        "model = keras.models.load_model('kaggle_model_63')"
      ]
    },
    {
      "cell_type": "code",
      "execution_count": 43,
      "metadata": {
        "id": "vhLd8JC9UYoj"
      },
      "outputs": [],
      "source": [
        "def text_to_emoji(model, tokenizer, text):\n",
        "    sequences =  tokenizer.texts_to_sequences([text])\n",
        "    query = pad_sequences(sequences, maxlen=MAX_SEQUENCE_LENGTH)\n",
        "    output = model.predict(query)\n",
        "    label_id = np.argmax(output)\n",
        "    for e, v in labels_index.items():\n",
        "        if v == label_id:\n",
        "            return e"
      ]
    },
    {
      "cell_type": "code",
      "execution_count": 44,
      "metadata": {
        "id": "wQWL4o7U4Sds",
        "colab": {
          "base_uri": "https://localhost:8080/",
          "height": 35
        },
        "outputId": "b3670bce-1fa3-4aba-81ca-b86f9c9fc7a0"
      },
      "outputs": [
        {
          "output_type": "execute_result",
          "data": {
            "application/vnd.google.colaboratory.intrinsic+json": {
              "type": "string"
            },
            "text/plain": [
              "'💖'"
            ]
          },
          "metadata": {},
          "execution_count": 44
        }
      ],
      "source": [
        "text_to_emoji(model, tokenizer, \"I love you so much\")"
      ]
    },
    {
      "cell_type": "code",
      "execution_count": 48,
      "metadata": {
        "id": "-n14CvyJA_Oa",
        "colab": {
          "base_uri": "https://localhost:8080/",
          "height": 35
        },
        "outputId": "5833bb05-363d-4eca-c5b9-f00dd3e66034"
      },
      "outputs": [
        {
          "output_type": "execute_result",
          "data": {
            "application/vnd.google.colaboratory.intrinsic+json": {
              "type": "string"
            },
            "text/plain": [
              "'🎶'"
            ]
          },
          "metadata": {},
          "execution_count": 48
        }
      ],
      "source": [
        "text_to_emoji(model, tokenizer, \"music touches me\")"
      ]
    },
    {
      "cell_type": "code",
      "execution_count": 46,
      "metadata": {
        "id": "tT2T7Z73BC3s",
        "colab": {
          "base_uri": "https://localhost:8080/",
          "height": 35
        },
        "outputId": "b0626d2e-352e-4655-a904-2d673620518a"
      },
      "outputs": [
        {
          "output_type": "execute_result",
          "data": {
            "application/vnd.google.colaboratory.intrinsic+json": {
              "type": "string"
            },
            "text/plain": [
              "'😒'"
            ]
          },
          "metadata": {},
          "execution_count": 46
        }
      ],
      "source": [
        "text_to_emoji(model, tokenizer, \"I hate war\")"
      ]
    },
    {
      "cell_type": "code",
      "execution_count": 47,
      "metadata": {
        "id": "roH3qkiXBMST",
        "colab": {
          "base_uri": "https://localhost:8080/",
          "height": 35
        },
        "outputId": "2b4ebdce-b229-4ad6-96ab-bf73001921e4"
      },
      "outputs": [
        {
          "output_type": "execute_result",
          "data": {
            "application/vnd.google.colaboratory.intrinsic+json": {
              "type": "string"
            },
            "text/plain": [
              "'💀'"
            ]
          },
          "metadata": {},
          "execution_count": 47
        }
      ],
      "source": [
        "text_to_emoji(model, tokenizer, \"kill mockingjay\")"
      ]
    },
    {
      "cell_type": "code",
      "execution_count": 47,
      "metadata": {
        "id": "jr4OhKAPBRiy"
      },
      "outputs": [],
      "source": [
        ""
      ]
    }
  ],
  "metadata": {
    "accelerator": "GPU",
    "colab": {
      "collapsed_sections": [],
      "name": "Emojis-CNN-50.ipynb",
      "provenance": []
    },
    "kernelspec": {
      "display_name": "Python 3",
      "name": "python3"
    },
    "language_info": {
      "name": "python"
    }
  },
  "nbformat": 4,
  "nbformat_minor": 0
}