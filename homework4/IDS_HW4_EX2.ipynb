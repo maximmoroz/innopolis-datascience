{
 "cells": [
  {
   "cell_type": "code",
   "execution_count": 43,
   "id": "0800e3b5",
   "metadata": {},
   "outputs": [],
   "source": [
    "C=\"Cat\"\n",
    "F=\"Fish\"\n",
    "H=\"Hen\"\n",
    "y_true = [C,C,C,C,C,C, F,F,F,F,F,F,F,F,F,F, H,H,H,H,H,H,H,H,H]\n",
    "y_pred = [C,C,C,C,H,F, C,C,C,C,C,C,H,H,F,F, C,C,C,H,H,H,H,H,H]"
   ]
  },
  {
   "cell_type": "code",
   "execution_count": 44,
   "id": "59c71c82",
   "metadata": {},
   "outputs": [],
   "source": [
    "def true_positive(y_true, y_pred, cls):\n",
    "    return sum(int(t == cls and t == p) for (t, p) in zip(y_true, y_pred))\n",
    "def false_positive(y_true, y_pred, cls):\n",
    "    return sum(int(p == cls and t != p) for (t, p) in zip(y_true, y_pred))\n",
    "def true_negative(y_true, y_pred, cls):\n",
    "    return sum(int(t != cls and cls != p) for (t, p) in zip(y_true, y_pred))\n",
    "def false_negative(y_true, y_pred, cls):\n",
    "    return sum(int(t == cls and cls != p) for (t, p) in zip(y_true, y_pred))"
   ]
  },
  {
   "cell_type": "code",
   "execution_count": 45,
   "id": "4d9835fa",
   "metadata": {},
   "outputs": [
    {
     "name": "stdout",
     "output_type": "stream",
     "text": [
      "4\n",
      "9\n",
      "10\n",
      "2\n"
     ]
    }
   ],
   "source": [
    "print(true_positive(y_true, y_pred, C))\n",
    "print(false_positive(y_true, y_pred, C))\n",
    "print(true_negative(y_true, y_pred, C))\n",
    "print(false_negative(y_true, y_pred, C))"
   ]
  },
  {
   "cell_type": "code",
   "execution_count": 57,
   "id": "17e1f108",
   "metadata": {},
   "outputs": [],
   "source": [
    "def precision(y_true, y_pred, cls):\n",
    "    TP = true_positive(y_true, y_pred, cls)\n",
    "    FP = false_positive(y_true, y_pred, cls)\n",
    "    return TP / (TP + FP)\n",
    "\n",
    "def recall(y_true, y_pred, cls):\n",
    "    TP = true_positive(y_true, y_pred, cls)\n",
    "    FN = false_negative(y_true, y_pred, cls)\n",
    "    return TP / (TP + FN)\n",
    "\n",
    "def f1_score(y_true, y_pred, cls):\n",
    "    p = precision(y_true, y_pred, cls)\n",
    "    r = recall(y_true, y_pred, cls)\n",
    "    return 2 * p * r / (p + r)"
   ]
  },
  {
   "cell_type": "code",
   "execution_count": 58,
   "id": "bc84309e",
   "metadata": {},
   "outputs": [
    {
     "name": "stdout",
     "output_type": "stream",
     "text": [
      "Precision 0.3076923076923077\n",
      "Recall 0.6666666666666666\n",
      "F1 Score 0.42105263157894735\n"
     ]
    }
   ],
   "source": [
    "print(\"Precision\", precision(y_true, y_pred, C))\n",
    "print(\"Recall\", recall(y_true, y_pred, C))\n",
    "print(\"F1 Score\", f1_score(y_true, y_pred, C))"
   ]
  },
  {
   "cell_type": "code",
   "execution_count": 40,
   "id": "9e370447",
   "metadata": {},
   "outputs": [],
   "source": [
    "import numpy as np\n",
    "m = np.zeros((3,3), dtype=np.uint32)"
   ]
  },
  {
   "cell_type": "code",
   "execution_count": 33,
   "id": "feb004f0",
   "metadata": {},
   "outputs": [],
   "source": [
    "def count_classify(y_true, y_pred, cls1, cls2):\n",
    "    return sum(int(t == cls1 and p == cls2) for (t, p) in zip(y_true, y_pred))"
   ]
  },
  {
   "cell_type": "code",
   "execution_count": 41,
   "id": "6759d95f",
   "metadata": {},
   "outputs": [],
   "source": [
    "for i, cls1 in enumerate([C, F, H]):\n",
    "    for j, cls2 in enumerate([C, F, H]):\n",
    "        m[i,j] = count_classify(y_true, y_pred, cls1, cls2)"
   ]
  },
  {
   "cell_type": "code",
   "execution_count": 42,
   "id": "8729ca1a",
   "metadata": {},
   "outputs": [
    {
     "data": {
      "text/plain": [
       "array([[4, 1, 1],\n",
       "       [6, 2, 2],\n",
       "       [3, 0, 6]], dtype=uint32)"
      ]
     },
     "execution_count": 42,
     "metadata": {},
     "output_type": "execute_result"
    }
   ],
   "source": [
    "m"
   ]
  },
  {
   "cell_type": "code",
   "execution_count": 59,
   "id": "b904c5e4",
   "metadata": {},
   "outputs": [],
   "source": [
    "from sklearn.metrics import classification_report"
   ]
  },
  {
   "cell_type": "code",
   "execution_count": 61,
   "id": "b0e75917",
   "metadata": {},
   "outputs": [
    {
     "name": "stdout",
     "output_type": "stream",
     "text": [
      "              precision    recall  f1-score   support\n",
      "\n",
      "         Cat       0.31      0.67      0.42         6\n",
      "        Fish       0.67      0.20      0.31        10\n",
      "         Hen       0.67      0.67      0.67         9\n",
      "\n",
      "    accuracy                           0.48        25\n",
      "   macro avg       0.55      0.51      0.47        25\n",
      "weighted avg       0.58      0.48      0.46        25\n",
      "\n"
     ]
    }
   ],
   "source": [
    "print(classification_report(y_true, y_pred))"
   ]
  },
  {
   "cell_type": "code",
   "execution_count": null,
   "id": "01f1e9bb",
   "metadata": {},
   "outputs": [],
   "source": []
  }
 ],
 "metadata": {
  "kernelspec": {
   "display_name": "Python 3",
   "language": "python",
   "name": "python3"
  },
  "language_info": {
   "codemirror_mode": {
    "name": "ipython",
    "version": 3
   },
   "file_extension": ".py",
   "mimetype": "text/x-python",
   "name": "python",
   "nbconvert_exporter": "python",
   "pygments_lexer": "ipython3",
   "version": "3.6.9"
  }
 },
 "nbformat": 4,
 "nbformat_minor": 5
}
