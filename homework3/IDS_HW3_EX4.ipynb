{
 "cells": [
  {
   "cell_type": "code",
   "execution_count": 1,
   "id": "f7fc0c03",
   "metadata": {},
   "outputs": [],
   "source": [
    "import numpy as np\n",
    "import pandas as pd\n",
    "import matplotlib.pyplot as plt"
   ]
  },
  {
   "cell_type": "code",
   "execution_count": 2,
   "id": "e21394ac",
   "metadata": {},
   "outputs": [],
   "source": [
    "people = ('G1','G2','G3','G4','G5','G6','G7','G8')\n",
    "segments = 4\n",
    "data = [[ 3.40022085, 7.70632498, 6.4097905, 10.51648577, 7.5330039, 7.1123587, 12.77792868, 3.44773477],\n",
    "        [ 11.24811149, 5.03778215, 6.65808464, 12.32220677, 7.45964195, 6.79685302, 7.24578743, 3.69371847],\n",
    "        [ 3.94253354, 4.74763549, 11.73529246, 4.6465543, 12.9952182, 4.63832778, 11.16849999, 8.56883433],\n",
    "        [ 4.24409799, 12.71746612, 11.3772169, 9.00514257, 10.47084185, 10.97567589, 3.98287652, 8.80552122]]"
   ]
  },
  {
   "cell_type": "code",
   "execution_count": 3,
   "id": "cae74fa8",
   "metadata": {},
   "outputs": [
    {
     "data": {
      "text/html": [
       "<div>\n",
       "<style scoped>\n",
       "    .dataframe tbody tr th:only-of-type {\n",
       "        vertical-align: middle;\n",
       "    }\n",
       "\n",
       "    .dataframe tbody tr th {\n",
       "        vertical-align: top;\n",
       "    }\n",
       "\n",
       "    .dataframe thead th {\n",
       "        text-align: right;\n",
       "    }\n",
       "</style>\n",
       "<table border=\"1\" class=\"dataframe\">\n",
       "  <thead>\n",
       "    <tr style=\"text-align: right;\">\n",
       "      <th></th>\n",
       "      <th>0</th>\n",
       "      <th>1</th>\n",
       "      <th>2</th>\n",
       "      <th>3</th>\n",
       "    </tr>\n",
       "  </thead>\n",
       "  <tbody>\n",
       "    <tr>\n",
       "      <th>G1</th>\n",
       "      <td>3.400221</td>\n",
       "      <td>11.248111</td>\n",
       "      <td>3.942534</td>\n",
       "      <td>4.244098</td>\n",
       "    </tr>\n",
       "    <tr>\n",
       "      <th>G2</th>\n",
       "      <td>7.706325</td>\n",
       "      <td>5.037782</td>\n",
       "      <td>4.747635</td>\n",
       "      <td>12.717466</td>\n",
       "    </tr>\n",
       "    <tr>\n",
       "      <th>G3</th>\n",
       "      <td>6.409790</td>\n",
       "      <td>6.658085</td>\n",
       "      <td>11.735292</td>\n",
       "      <td>11.377217</td>\n",
       "    </tr>\n",
       "    <tr>\n",
       "      <th>G4</th>\n",
       "      <td>10.516486</td>\n",
       "      <td>12.322207</td>\n",
       "      <td>4.646554</td>\n",
       "      <td>9.005143</td>\n",
       "    </tr>\n",
       "    <tr>\n",
       "      <th>G5</th>\n",
       "      <td>7.533004</td>\n",
       "      <td>7.459642</td>\n",
       "      <td>12.995218</td>\n",
       "      <td>10.470842</td>\n",
       "    </tr>\n",
       "    <tr>\n",
       "      <th>G6</th>\n",
       "      <td>7.112359</td>\n",
       "      <td>6.796853</td>\n",
       "      <td>4.638328</td>\n",
       "      <td>10.975676</td>\n",
       "    </tr>\n",
       "    <tr>\n",
       "      <th>G7</th>\n",
       "      <td>12.777929</td>\n",
       "      <td>7.245787</td>\n",
       "      <td>11.168500</td>\n",
       "      <td>3.982877</td>\n",
       "    </tr>\n",
       "    <tr>\n",
       "      <th>G8</th>\n",
       "      <td>3.447735</td>\n",
       "      <td>3.693718</td>\n",
       "      <td>8.568834</td>\n",
       "      <td>8.805521</td>\n",
       "    </tr>\n",
       "  </tbody>\n",
       "</table>\n",
       "</div>"
      ],
      "text/plain": [
       "            0          1          2          3\n",
       "G1   3.400221  11.248111   3.942534   4.244098\n",
       "G2   7.706325   5.037782   4.747635  12.717466\n",
       "G3   6.409790   6.658085  11.735292  11.377217\n",
       "G4  10.516486  12.322207   4.646554   9.005143\n",
       "G5   7.533004   7.459642  12.995218  10.470842\n",
       "G6   7.112359   6.796853   4.638328  10.975676\n",
       "G7  12.777929   7.245787  11.168500   3.982877\n",
       "G8   3.447735   3.693718   8.568834   8.805521"
      ]
     },
     "execution_count": 3,
     "metadata": {},
     "output_type": "execute_result"
    }
   ],
   "source": [
    "df = pd.DataFrame(data, columns=people).transpose()\n",
    "df"
   ]
  },
  {
   "cell_type": "code",
   "execution_count": 4,
   "id": "ea271026",
   "metadata": {},
   "outputs": [
    {
     "data": {
      "image/png": "[encoded data removed]",
      "text/plain": [
       "<Figure size 432x288 with 1 Axes>"
      ]
     },
     "metadata": {
      "needs_background": "light"
     },
     "output_type": "display_data"
    }
   ],
   "source": [
    "ax = df.plot(kind='barh', stacked=True, legend=None, color=('r', 'g', 'w', 'm'), edgecolor='black')\n",
    "for bar in ax.patches:    \n",
    "    ax.annotate(format(bar.get_width(), '.2f'),\n",
    "                   (bar.get_x() + bar.get_width() / 2, bar.get_y()), \n",
    "                   ha='center', va='center',\n",
    "                   size=7, xytext=(0, 7),\n",
    "                   textcoords='offset points')\n",
    "\n",
    "plt.xlabel(\"Scores\")\n",
    "plt.show()"
   ]
  },
  {
   "cell_type": "code",
   "execution_count": 5,
   "id": "971a1780",
   "metadata": {},
   "outputs": [],
   "source": [
    "# Нет идей, как цифры в проценты преобразовывать? Какое правило?"
   ]
  }
 ],
 "metadata": {
  "kernelspec": {
   "display_name": "Python 3",
   "language": "python",
   "name": "python3"
  },
  "language_info": {
   "codemirror_mode": {
    "name": "ipython",
    "version": 3
   },
   "file_extension": ".py",
   "mimetype": "text/x-python",
   "name": "python",
   "nbconvert_exporter": "python",
   "pygments_lexer": "ipython3",
   "version": "3.6.9"
  }
 },
 "nbformat": 4,
 "nbformat_minor": 5
}
