{
  "nbformat": 4,
  "nbformat_minor": 0,
  "metadata": {
    "colab": {
      "name": "IDS-HW3.ipynb",
      "provenance": [],
      "collapsed_sections": []
    },
    "kernelspec": {
      "name": "python3",
      "display_name": "Python 3"
    },
    "language_info": {
      "name": "python"
    }
  },
  "cells": [
    {
      "cell_type": "code",
      "metadata": {
        "id": "cI-q5_UNoIgs"
      },
      "source": [
        "import pandas as pd\n",
        "import matplotlib.pyplot as plt"
      ],
      "execution_count": 11,
      "outputs": []
    },
    {
      "cell_type": "code",
      "metadata": {
        "colab": {
          "base_uri": "https://localhost:8080/",
          "height": 204
        },
        "id": "OiCBULT8slhj",
        "outputId": "c203f679-b4e7-44ca-ff1f-63df1975b8ae"
      },
      "source": [
        "df = pd.read_csv(\"homework3/alphabet_1.csv\", header=None, parse_dates=True, names=('open', 'max', 'min', 'close'), index_col=0)\n",
        "df"
      ],
      "execution_count": 14,
      "outputs": [
        {
          "output_type": "execute_result",
          "data": {
            "text/html": [
              "<div>\n",
              "<style scoped>\n",
              "    .dataframe tbody tr th:only-of-type {\n",
              "        vertical-align: middle;\n",
              "    }\n",
              "\n",
              "    .dataframe tbody tr th {\n",
              "        vertical-align: top;\n",
              "    }\n",
              "\n",
              "    .dataframe thead th {\n",
              "        text-align: right;\n",
              "    }\n",
              "</style>\n",
              "<table border=\"1\" class=\"dataframe\">\n",
              "  <thead>\n",
              "    <tr style=\"text-align: right;\">\n",
              "      <th></th>\n",
              "      <th>open</th>\n",
              "      <th>max</th>\n",
              "      <th>min</th>\n",
              "      <th>close</th>\n",
              "    </tr>\n",
              "  </thead>\n",
              "  <tbody>\n",
              "    <tr>\n",
              "      <th>2016-10-03</th>\n",
              "      <td>774.250000</td>\n",
              "      <td>776.065002</td>\n",
              "      <td>769.500000</td>\n",
              "      <td>772.559998</td>\n",
              "    </tr>\n",
              "    <tr>\n",
              "      <th>2016-10-04</th>\n",
              "      <td>776.030029</td>\n",
              "      <td>778.710022</td>\n",
              "      <td>772.890015</td>\n",
              "      <td>776.429993</td>\n",
              "    </tr>\n",
              "    <tr>\n",
              "      <th>2016-10-05</th>\n",
              "      <td>779.309998</td>\n",
              "      <td>782.070007</td>\n",
              "      <td>775.650024</td>\n",
              "      <td>776.469971</td>\n",
              "    </tr>\n",
              "    <tr>\n",
              "      <th>2016-10-06</th>\n",
              "      <td>779.000000</td>\n",
              "      <td>780.479980</td>\n",
              "      <td>775.539978</td>\n",
              "      <td>776.859985</td>\n",
              "    </tr>\n",
              "    <tr>\n",
              "      <th>2016-10-07</th>\n",
              "      <td>779.659973</td>\n",
              "      <td>779.659973</td>\n",
              "      <td>770.750000</td>\n",
              "      <td>775.080017</td>\n",
              "    </tr>\n",
              "  </tbody>\n",
              "</table>\n",
              "</div>"
            ],
            "text/plain": [
              "                  open         max         min       close\n",
              "2016-10-03  774.250000  776.065002  769.500000  772.559998\n",
              "2016-10-04  776.030029  778.710022  772.890015  776.429993\n",
              "2016-10-05  779.309998  782.070007  775.650024  776.469971\n",
              "2016-10-06  779.000000  780.479980  775.539978  776.859985\n",
              "2016-10-07  779.659973  779.659973  770.750000  775.080017"
            ]
          },
          "metadata": {},
          "execution_count": 14
        }
      ]
    },
    {
      "cell_type": "code",
      "metadata": {
        "colab": {
          "base_uri": "https://localhost:8080/",
          "height": 289
        },
        "id": "gGSLcMiysrfs",
        "outputId": "b9492d8f-740a-495c-b4da-16ee2e95e52d"
      },
      "source": [
        "df.plot()\n",
        "plt.legend(loc='upper left')\n",
        "plt.show()"
      ],
      "execution_count": 15,
      "outputs": [
        {
          "output_type": "display_data",
          "data": {
            "image/png": "[encoded data removed]",
            "text/plain": [
              "<Figure size 432x288 with 1 Axes>"
            ]
          },
          "metadata": {
            "needs_background": "light"
          }
        }
      ]
    }
  ]
}